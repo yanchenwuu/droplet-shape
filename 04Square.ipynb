{
 "cells": [
  {
   "cell_type": "code",
   "execution_count": 1,
   "metadata": {},
   "outputs": [
    {
     "data": {
      "text/plain": [
       "'\\nThis Jupyter notebook implements the code from the\\npaper \"Unveiling the Complex Morphologies of Sessile Droplets on Heterogeneous Surfaces\"\\nfor a square-pattern substrate.\\nThe notebook defines several global constants that describe the shape of the substrate.\\nThese constants typically do not need to be modified.\\nFollowing the flow chart in Fig. S2, a good entry point for the code is the function Main_M.\\nThis function calculates the radius matrix for a given droplet volume v\\nand parameters m and n using Radius2fun.\\nThe radius matrix is then processed by average_mainfun,\\nwhich computes the droplet height H and the droplet surface area under specific m and n constraints.\\nBy looping over a range of m and n values for a given droplet volume,\\nthe surface area matrix is obtained. The minimum value in the surface area matrix, S_min, is identified,\\nalong with the corresponding parameters m and n.\\n\\nKey Functions:\\nMain_M: Entry point for calculating the radius matrix.\\nRadius2fun: Computes the radius matrix for given parameters.\\naverage_mainfun: Calculates the droplet height and surface area.\\n\\nResults:\\nThe minimum surface area S_min and the corresponding parameters m and n\\nare identified, providing insights into the morphology of sessile droplets on square substrat\\n'"
      ]
     },
     "execution_count": 1,
     "metadata": {},
     "output_type": "execute_result"
    }
   ],
   "source": [
    "\"\"\"\n",
    "This Jupyter notebook implements the code from the\n",
    "paper \"Unveiling the Complex Morphologies of Sessile Droplets on Heterogeneous Surfaces\"\n",
    "for a square-pattern substrate.\n",
    "The notebook defines several global constants that describe the shape of the substrate.\n",
    "These constants typically do not need to be modified.\n",
    "Following the flow chart in Fig. S2, a good entry point for the code is the function Main_M.\n",
    "This function calculates the radius matrix for a given droplet volume v\n",
    "and parameters m and n using Radius2fun.\n",
    "The radius matrix is then processed by average_mainfun,\n",
    "which computes the droplet height H and the droplet surface area under specific m and n constraints.\n",
    "By looping over a range of m and n values for a given droplet volume,\n",
    "the surface area matrix is obtained. The minimum value in the surface area matrix, S_min, is identified,\n",
    "along with the corresponding parameters m and n.\n",
    "\n",
    "Key Functions:\n",
    "Main_M: Entry point for calculating the radius matrix.\n",
    "Radius2fun: Computes the radius matrix for given parameters.\n",
    "average_mainfun: Calculates the droplet height and surface area.\n",
    "\n",
    "Results:\n",
    "The minimum surface area S_min and the corresponding parameters m and n\n",
    "are identified, providing insights into the morphology of sessile droplets on square substrat\n",
    "\"\"\"\n"
   ]
  },
  {
   "cell_type": "code",
   "execution_count": 2,
   "metadata": {},
   "outputs": [],
   "source": [
    "import numpy as np\n",
    "import matplotlib.pyplot as plt\n",
    "from tqdm.auto import tqdm\n",
    "import pandas as pd\n",
    "from scipy.optimize import fsolve \n",
    "import sys\n",
    "import time\n",
    "from scipy import optimize\n",
    "from numpy import savetxt"
   ]
  },
  {
   "cell_type": "code",
   "execution_count": 3,
   "metadata": {},
   "outputs": [],
   "source": [
    "def intercept(s, N):\n",
    "    \"\"\"\n",
    "    Calculates the initial radius of the inner tangent circle of an N-sided polygon.\n",
    "\n",
    "    Args:\n",
    "        s (float): The constant area of the substrate.\n",
    "        N (int): The number of sides of the polygon (N >= 3).\n",
    "\n",
    "    Returns:\n",
    "        r (float): The radius of the inner tangent circle of the N-sided polygon, denoted as R in the paper.\n",
    "    \"\"\"\n",
    "    r = np.sqrt(s/(np.tan(np.pi/N)*N))\n",
    "    return r"
   ]
  },
  {
   "cell_type": "code",
   "execution_count": 4,
   "metadata": {},
   "outputs": [],
   "source": [
    "N = 4 # Initial number of sides for the square pattern\n",
    "area = 1 # Liuqid-solid contact area/substrate area, denoted as S_1 in paper\n",
    "theta_ = (2*np.pi)/N # The interior angle, denoted as \\varphi in paper\n",
    "r = intercept(area, N) # The radius of the inner tangent circle for the N-polygon pattern \n",
    "c_max = np.power(-1, N)*np.power(-r,N) # Mathematical transformations for easy implementation\n",
    "###### coefficients in Eq.S6:\n",
    "a1 = np.sin(theta_)\n",
    "b1 = np.cos(theta_)\n",
    "a2 = np.sin(2*theta_)\n",
    "b2 = np.cos(2*theta_)\n",
    "a3 = np.sin(3*theta_)\n",
    "b3 = np.cos(3*theta_)\n",
    "a4 = np.sin(4*theta_)\n",
    "b4 = np.cos(4*theta_)\n",
    "#####"
   ]
  },
  {
   "cell_type": "code",
   "execution_count": 5,
   "metadata": {},
   "outputs": [],
   "source": [
    "def r2fun(R, *data):#polar coordinate\n",
    "    \"\"\"\n",
    "    This function describes the shape of a droplet on an N-polygon substrate, \n",
    "    as specified by Equation S5. It will be submitted to \"r_solution_initial\" or \"r_solution_array\"\n",
    "    to solve for the radius matrix given a droplet volume \"v\", and parameter \"m\".\n",
    "    Args:\n",
    "        R (float): The radius in the polar coordinate system.\n",
    "        theta, c, m (tuple):\n",
    "            theta (float): The angle in the polar coordinate system.\n",
    "            c (float): A parameter for the scaling factor \"f(c)\" as defined in the paper.\n",
    "            m (float): Another parameter for the scaling factor \"f(c)\" as defined in the paper.\n",
    "    Returns:\n",
    "        The left side of Equation S5, to be used for solving the radius matrix.\n",
    "    \"\"\"\n",
    "\n",
    "    global theta_, r, N, c_max\n",
    "    theta, c, m= data\n",
    "    f=1\n",
    "    x = R*np.cos(theta)\n",
    "    y = R*np.sin(theta)\n",
    "    factor = (1 + (c/c_max))**m\n",
    "    for echo in range(N):\n",
    "        i = echo+1\n",
    "        fi = ((np.sin(i*theta_))*(y/factor) + np.cos(i*theta_)*(x/factor))-r\n",
    "        f = f*fi\n",
    "    f = np.power(-1, N)*f\n",
    "    return f-c"
   ]
  },
  {
   "cell_type": "code",
   "execution_count": 6,
   "metadata": {},
   "outputs": [],
   "source": [
    "def r_solution_initial(r0, theta, c, m):\n",
    "    \"\"\"\n",
    "    This function uses \"fsolve\" to determine the precise radius \"r\"\n",
    "    given an initial guess \"r0\", angle \"theta\", and parameters \"c\" and \"m\".\n",
    "\n",
    "    Args:\n",
    "        r0 (float): Initial guess for the radius.\n",
    "        theta (float): The angle in the polar coordinate system.\n",
    "        c (float): A parameter related to the scaling factor \"f(c)\" as described in the paper.\n",
    "        m (float): Another parameter related to the scaling factor \"f(c)\" as described in the paper.\n",
    "        \n",
    "    Returns:\n",
    "       (float): The exact radius corresponding to the given parameters, intended for use in the radius\n",
    "       matrix radius[0][j].\n",
    "    \"\"\"\n",
    "\n",
    "    data = (theta, c, m)\n",
    "    r,_,ier,mesg = fsolve(r2fun, r0, args=data, full_output=True)\n",
    "    r_value = r.item(0)\n",
    "    if ier != 1:\n",
    "        print (\"r_solution:I coudn't solve the algebraic constraint, error:\\n\\n:\",r_value, theta,c, m)\n",
    "    sys.stdout.flush()\n",
    "    #r_value = sol.x\n",
    "    return r_value"
   ]
  },
  {
   "cell_type": "code",
   "execution_count": 7,
   "metadata": {},
   "outputs": [],
   "source": [
    "def r_solution_array(r0, theta, c, m):\n",
    "    \"\"\"\n",
    "    This function uses 'fsolve' to determine the precise radius 'r' given an initial guess 'r0', \n",
    "    an angle 'theta', and parameters 'c' and 'm'.\n",
    "\n",
    "    Args:\n",
    "        r0 (array): The initial guess for the radius, typically the previous value in the radius array.\n",
    "        theta (float): The angle in the polar coordinate system.\n",
    "        c (float): A scaling factor parameter, as described in the referenced paper.\n",
    "        m (float): Another scaling factor parameter, as described in the referenced paper.\n",
    "    Returns:\n",
    "        array: The calculated radius array corresponding to the given parameters.\n",
    "    \"\"\"\n",
    "\n",
    "    data = (theta, c, m)\n",
    "    r,_,ier,mesg = fsolve(r2fun, r0, args=data, full_output=True)\n",
    "    if ier != 1:\n",
    "        print (\"r_solution:I coudn't solve the algebraic constraint, error:\\n\\n:\",c, m)\n",
    "    sys.stdout.flush()\n",
    "    return r"
   ]
  },
  {
   "cell_type": "code",
   "execution_count": 8,
   "metadata": {},
   "outputs": [],
   "source": [
    "def Radius2fun(dimension,theta_r, c_r, m):\n",
    "    \"\"\"\n",
    "    This function generates a radius matrix.\n",
    "\n",
    "    Args:\n",
    "        dimension (int): The dimensions of the radius matrix.\n",
    "        theta_r (array-like): An array of angle ranges from 0 to 2π/N with a length of \"dimension\".\n",
    "        c_r (array-like): An array of the parameter \"c\" ranging from 0 to c_max with a length of \"dimension\".\n",
    "        m (float): A scaling factor parameter \"f(c)\" as described in the referenced paper.\n",
    "\n",
    "    Returns:\n",
    "        numpy.ndarray: A radius matrix of size \"dimension\" x \"dimension\" for the specified parameter \"m\".\n",
    "\"\"\"\n",
    "\n",
    "    global N, r\n",
    "    r0 = r # the radius of the inner tangent circle for the N-polygon pattern\n",
    "    radius = np.zeros(shape = (dimension, dimension))\n",
    "    for i in range(dimension):\n",
    "        c = c_r[i]\n",
    "        if i <=1:\n",
    "            for j in range(dimension):\n",
    "                theta = theta_r[j]\n",
    "                R = r_solution_initial(r0, theta, c, m)\n",
    "                radius[i][j] = R\n",
    "                r0 = R\n",
    "        else:\n",
    "            r0 = radius[i-1]\n",
    "            R = r_solution_array(r0, theta_r, c, m)\n",
    "            radius[i] = R\n",
    "    return radius"
   ]
  },
  {
   "cell_type": "code",
   "execution_count": null,
   "metadata": {},
   "outputs": [],
   "source": []
  },
  {
   "cell_type": "code",
   "execution_count": 9,
   "metadata": {},
   "outputs": [],
   "source": [
    "def dev_r_theta2fun(theta_ranges, Radius, c_ranges, m):\n",
    "    \"\"\"\n",
    "    Calculates the partial derivatives of the radius with respect to the angle\n",
    "    (\\(\\partial R / \\partial \\theta\\)), as described in Equation S18.\n",
    "\n",
    "    Args:\n",
    "        theta_ranges (array-like): Array of angle ranges from 0 to \\(2\\pi/N\\), \n",
    "        with a length specified by the \"dimension\".\n",
    "    Radius (array-like): Matrix representing the radius for a given parameter \"m\".\n",
    "    c_ranges (array-like): Array of parameter \"c\" ranges from 0 to \\(c_{\\text{max}}\\),\n",
    "    with a length specified by the \"dimension\".\n",
    "    m (float): Scaling factor parameter \"f(c)\" as described in the paper.\n",
    "    \n",
    "    Returns:\n",
    "        numpy.ndarray: Matrix of partial derivatives of the radius with respect to the angle.\n",
    "    \"\"\"\n",
    "\n",
    "    global r, c_max\n",
    "    C_N_factor = np.reshape(((1 + c_ranges/c_max)**m), (-1,1))\n",
    "    Sin = np.sin(theta_ranges)\n",
    "    Cos = np.cos(theta_ranges)\n",
    "    R_sin = Radius*Sin\n",
    "    R_cos = Radius*Cos\n",
    "    eq1 = a1*R_sin+b1*R_cos-r*C_N_factor\n",
    "    eq2 = a2*R_sin+b2*R_cos-r*C_N_factor\n",
    "    eq3 = a3*R_sin+b3*R_cos-r*C_N_factor\n",
    "    eq4 = a4*R_sin+b4*R_cos-r*C_N_factor\n",
    "############################\n",
    "    d_eq1_1 = a1*Sin+b1*Cos\n",
    "    d_eq2_1 = a2*Sin+b2*Cos\n",
    "    d_eq3_1 = a3*Sin+b3*Cos\n",
    "    d_eq4_1 = a4*Sin+b4*Cos\n",
    "###########################\n",
    "    d_eq1_2 = a1*R_cos-b1*R_sin\n",
    "    d_eq2_2 = a2*R_cos-b2*R_sin\n",
    "    d_eq3_2 = a3*R_cos-b3*R_sin\n",
    "    d_eq4_2 = a4*R_cos-b4*R_sin\n",
    "###\n",
    "    z_denominator = (d_eq1_1*eq2*eq3*eq4+d_eq2_1*eq1*eq3*eq4+d_eq3_1\n",
    "                     *eq2*eq1*eq4+d_eq4_1*eq1*eq3*eq2 )\n",
    "    z_numerator = -(d_eq1_2*eq2*eq3*eq4+d_eq2_2*eq1*eq3*eq4+d_eq3_2\n",
    "                     *eq2*eq1*eq4+d_eq4_2*eq2*eq3*eq1)\n",
    "    dev_r_theta = z_numerator/z_denominator\n",
    "    return dev_r_theta"
   ]
  },
  {
   "cell_type": "code",
   "execution_count": 10,
   "metadata": {},
   "outputs": [],
   "source": [
    "def dev_r_C2fun(theta_ranges, Radius, c_ranges, m):\n",
    "    \"\"\"\n",
    "    This function computes the partial derivatives of the radius (R)\n",
    "    with respect to the parameter (c), as described in Equation S19.\n",
    "\n",
    "    Args:\n",
    "        theta_ranges (array): An array representing the angle ranges \n",
    "        from 0 to 2π/N with a specified length (\"dimension\").\n",
    "        Radius (matrix): A matrix of radius values corresponding to a particular parameter \"m\".\n",
    "        c_ranges (array): An array of parameter \"c\" values ranging from 0 to\n",
    "        c_max with a specified length (\"dimension\").\n",
    "        m (float): A scaling factor parameter \"f(c)\" as defined in the paper.\n",
    "\n",
    "    Returns:\n",
    "        matrix: A matrix containing the partial derivatives of the radius with respect to the parameter \"c\".\n",
    "    \"\"\"\n",
    "\n",
    "    global r, c_max, N\n",
    "    c = np.reshape(c_ranges, (-1,1))\n",
    "    C_N_factor = (1+(c/c_max))**m\n",
    "    Sin = np.sin(theta_ranges)\n",
    "    Cos = np.cos(theta_ranges)\n",
    "    R_sin = Radius*Sin\n",
    "    R_cos = Radius*Cos\n",
    "    eq1 = a1*R_sin+b1*R_cos-r*C_N_factor\n",
    "    eq2 = a2*R_sin+b2*R_cos-r*C_N_factor\n",
    "    eq3 = a3*R_sin+b3*R_cos-r*C_N_factor\n",
    "    eq4 = a4*R_sin+b4*R_cos-r*C_N_factor\n",
    "    ############################\n",
    "    d_eq1_1 = a1*Sin+b1*Cos\n",
    "    d_eq2_1 = a2*Sin+b2*Cos\n",
    "    d_eq3_1 = a3*Sin+b3*Cos\n",
    "    d_eq4_1 = a4*Sin+b4*Cos\n",
    "    ###########################\n",
    "    z_denominator = (d_eq1_1*eq2*eq3*eq4+d_eq2_1*eq1*eq3*eq4+d_eq3_1\n",
    "                     *eq2*eq1*eq4+d_eq4_1*eq1*eq3*eq2)\n",
    "    c_n_factor = m*((1+c/c_max)**(m-1))*(1/c_max)\n",
    "    C_derv = C_N_factor**N+c*N*(C_N_factor**(N-1))*c_n_factor\n",
    "    z_numerator = C_derv+r*c_n_factor*(eq2*eq3*eq4+eq1*eq3*eq4+eq1*eq2*eq4+eq1*eq2*eq3)\n",
    "    dev_r_c = z_numerator/z_denominator\n",
    "    return dev_r_c"
   ]
  },
  {
   "cell_type": "code",
   "execution_count": 11,
   "metadata": {},
   "outputs": [],
   "source": [
    "def dev_h_c2fun(c, n):\n",
    "    \"\"\"\n",
    "    This function computes the partial derivative of height (h) with respect to c,\n",
    "    denoted as (\\partial h)/(\\partial c), which corresponds to the third part in Eq.S9 but without info of \"H\".\n",
    "\n",
    "    Args:\n",
    "        c (array): Array of parameter values ranging from 0 to c_max\n",
    "        with 'dimension' number of elements.\n",
    "        n (float): Parameter used in the droplet height definition h = H * c^n in the paper,\n",
    "        where H is the droplet height.\n",
    "\n",
    "    Returns:\n",
    "    (array):Array of partial derivatives of height with respect to parameter c,\n",
    "    scaled by a constant factor of H.\n",
    "    \"\"\"\n",
    "\n",
    "    return (n/np.power(c_max, n))*np.power(c,n-1)"
   ]
  },
  {
   "cell_type": "code",
   "execution_count": 12,
   "metadata": {},
   "outputs": [],
   "source": [
    "def average_mainfun(v, n, m, Radius, theta_ranges, C_ranges):\n",
    "    \"\"\"\n",
    "    Calculates the height and the surface area of a droplet given its volume 'v' and parameters 'm' and 'n'.\n",
    "\n",
    "    Args:\n",
    "        v (float): Droplet volume.\n",
    "        m (float): Scaling factor parameter 'f(c)' as defined in the paper.\n",
    "        n (float): Parameter defining the droplet height 'h = Hc^n' in the paper, where 'H' is the droplet height.\n",
    "        Radius (ndarray): Matrix of radii corresponding to parameter 'm'.\n",
    "        theta_ranges (ndarray): Array defining angle ranges from 0 to 2π/N with 'dimension' length.\n",
    "        C_ranges (ndarray): Array defining parameter 'c' ranges from 0 to c_max with 'dimension' length.\n",
    "\n",
    "    Returns:\n",
    "        H (float): Droplet height under parameters 'n' and 'm'.\n",
    "        surface_size (float): Droplet surface area under parameters 'n' and 'm'.\n",
    "    \"\"\"\n",
    "\n",
    "     \n",
    "    global c_max, r, N\n",
    "\n",
    "    dimen_theta = len(theta_ranges)\n",
    "    dimen_c = len(C_ranges)\n",
    "    \n",
    "    dev_h_c = dev_h_c2fun(C_ranges, n)\n",
    "    ds_base = (1/2)*(Radius**2)*(2*(np.pi)/(dimen_theta*N))\n",
    "    ds_2 = np.delete(ds_base, -1, axis=1)\n",
    "    ds_3 = np.delete(ds_base, 0, axis=1)\n",
    "\n",
    "    delta_base_2 = np.sum(ds_2, axis=1)\n",
    "    delta_base_3 = np.sum(ds_3, axis=1)\n",
    "    \n",
    "    dela_base_average = 0.5*(delta_base_2+delta_base_3)\n",
    "    \n",
    "    \n",
    "    dv = (dela_base_average*dev_h_c)*(c_max/dimen_c)\n",
    "    dv2 = np.delete(dv, -1, axis=0)\n",
    "    dv3 = np.delete(dv, 0, axis=0)\n",
    "    dv_average = 0.5*(dv2+dv3)\n",
    "    \n",
    "    dv_sum = np.sum(dv_average)\n",
    "    H = v/(dv_sum*N)##### Eq.S13 the droplet height is determinded under given \"n\" and \"m\"\n",
    "    \n",
    "    dev_r_theta = dev_r_theta2fun(theta_ranges, Radius, C_ranges, m)\n",
    "    dl = np.sqrt(Radius**2 + dev_r_theta**2)*(2*(np.pi)/(dimen_theta*N))####Eq.S15\n",
    "\n",
    "    d_h = H*dev_h_c\n",
    "    dh = d_h.reshape(-1,1)\n",
    "    d_r_c = dev_r_C2fun(theta_ranges, Radius, C_ranges, m)\n",
    "    \n",
    "    #########################################################\n",
    "    d_r_c[0][dimen_c//2] = 0 #when c=0, the d_r_c is not derivative, so to avoid the singularity\n",
    "    #########################################################\n",
    "    \n",
    "    \n",
    "    \n",
    "    ds_surface = np.sqrt(dh**2+d_r_c**2)*(c_max/dimen_c)####Eq.S16\n",
    "    surface = dl*ds_surface####the integral part in Eq.S14 \n",
    "\n",
    "    \n",
    "    surface1 = np.delete(surface, -1, axis=0)\n",
    "    surface2 = np.delete(surface1, -1, axis=1)\n",
    "    \n",
    "    surface3 = np.delete(surface, 0, axis=0)\n",
    "    surface4 = np.delete(surface3, 0, axis=1)\n",
    "    \n",
    "    surface = 0.5*(surface2+surface4)\n",
    "    \n",
    "    surface_size = np.sum(surface)*N\n",
    "    return H, surface_size"
   ]
  },
  {
   "cell_type": "code",
   "execution_count": 13,
   "metadata": {},
   "outputs": [],
   "source": [
    "def Main_M(v, dimen, m_ranges, n_ranges):\n",
    "    \"\"\"\n",
    "    Calculates the minimum droplet surface area for a given volume.\n",
    "    \n",
    "    Args:\n",
    "        v (float): Droplet volume.\n",
    "        dimen (int): Dimension for radius matrix.\n",
    "        m_ranges (array-like): Array of possible values for parameter \"m\".\n",
    "        n_ranges (array-like): Array of possible values for parameter \"n\".\n",
    "        \n",
    "    Returns:\n",
    "        surface_small (float): Minimum surface area of the droplet.\n",
    "        height (float): Corresponding height when the minimum surface area is achieved.\n",
    "        M_n_surface_matrix (ndarray): Surface area matrix under dimensions specified by m_ranges*n_ranges.\n",
    "        m_ranges[index[0]] (float): Parameter \"m\" value corresponding to the minimum surface area.\n",
    "        n_ranges[index[1]] (float): Parameter \"n\" value corresponding to the minimum surface area.\n",
    "    \"\"\"\n",
    "\n",
    "    C_ranges = np.linspace(1e-16, 0.999*c_max, dimen)\n",
    "    theta_ranges = np.linspace(0, (2*np.pi)/N, dimen)\n",
    "    m_length = len(m_ranges)\n",
    "    n_length = len(n_ranges)\n",
    "    M_n_surface_matrix = np.zeros((m_length, n_length))\n",
    "    M_n_height_matrix = np.zeros((m_length, n_length))\n",
    "    for i in tqdm(range(m_length)):\n",
    "        M_Radius = Radius2fun(dimen, theta_ranges, C_ranges, m_ranges[i])# raidus matrix for certain m\n",
    "        for j in range(n_length):\n",
    "            n_h, n_s = average_mainfun(v, n_ranges[j],m_ranges[i], M_Radius, theta_ranges, C_ranges)# droplet height and surface under certain m and n\n",
    "            M_n_surface_matrix[i][j] = n_s\n",
    "            M_n_height_matrix[i][j] = n_h\n",
    "    surface_small = M_n_surface_matrix.min()\n",
    "    index = np.where(M_n_surface_matrix == np.min(M_n_surface_matrix))\n",
    "    height = M_n_height_matrix[index]\n",
    "    return surface_small, height, M_n_surface_matrix, m_ranges[index[0]], n_ranges[index[1]]"
   ]
  },
  {
   "cell_type": "markdown",
   "metadata": {},
   "source": [
    "#### Test for d_r_c"
   ]
  },
  {
   "cell_type": "code",
   "execution_count": 14,
   "metadata": {},
   "outputs": [],
   "source": [
    "Volume = [0.06,0.5]#0.1, 0.14, 0.18,0.3, 0.5, 1, 1.5]"
   ]
  },
  {
   "cell_type": "code",
   "execution_count": 15,
   "metadata": {},
   "outputs": [],
   "source": [
    "#m_ranges = np.arange(-3, 3, 0.1)\n",
    "#n_ranges = np.arange(0.5,1, 0.01)\n",
    "m_ranges = np.arange(-3, 3, 0.1)\n",
    "n_ranges = np.arange(0.5,2, 0.01)"
   ]
  },
  {
   "cell_type": "code",
   "execution_count": 17,
   "metadata": {},
   "outputs": [
    {
     "data": {
      "application/vnd.jupyter.widget-view+json": {
       "model_id": "b318218b4dd648f0b0ef4db27461b992",
       "version_major": 2,
       "version_minor": 0
      },
      "text/plain": [
       "  0%|          | 0/60 [00:00<?, ?it/s]"
      ]
     },
     "metadata": {},
     "output_type": "display_data"
    },
    {
     "ename": "KeyboardInterrupt",
     "evalue": "",
     "output_type": "error",
     "traceback": [
      "\u001b[0;31m---------------------------------------------------------------------------\u001b[0m",
      "\u001b[0;31mKeyboardInterrupt\u001b[0m                         Traceback (most recent call last)",
      "\u001b[0;32m<ipython-input-17-a33cf41f5384>\u001b[0m in \u001b[0;36m<module>\u001b[0;34m\u001b[0m\n\u001b[1;32m      6\u001b[0m \u001b[0mDimen\u001b[0m \u001b[0;34m=\u001b[0m \u001b[0;36m200\u001b[0m\u001b[0;34m\u001b[0m\u001b[0;34m\u001b[0m\u001b[0m\n\u001b[1;32m      7\u001b[0m \u001b[0;32mfor\u001b[0m \u001b[0mv\u001b[0m \u001b[0;32min\u001b[0m \u001b[0mVolume\u001b[0m\u001b[0;34m:\u001b[0m\u001b[0;34m\u001b[0m\u001b[0;34m\u001b[0m\u001b[0m\n\u001b[0;32m----> 8\u001b[0;31m     \u001b[0ms\u001b[0m\u001b[0;34m,\u001b[0m \u001b[0mh\u001b[0m\u001b[0;34m,\u001b[0m \u001b[0ms_matrix\u001b[0m\u001b[0;34m,\u001b[0m \u001b[0mm\u001b[0m\u001b[0;34m,\u001b[0m\u001b[0mn\u001b[0m\u001b[0;34m=\u001b[0m \u001b[0mMain_M\u001b[0m\u001b[0;34m(\u001b[0m\u001b[0mv\u001b[0m\u001b[0;34m,\u001b[0m \u001b[0mDimen\u001b[0m\u001b[0;34m,\u001b[0m \u001b[0mm_ranges\u001b[0m\u001b[0;34m,\u001b[0m \u001b[0mn_ranges\u001b[0m\u001b[0;34m)\u001b[0m\u001b[0;34m\u001b[0m\u001b[0;34m\u001b[0m\u001b[0m\n\u001b[0m\u001b[1;32m      9\u001b[0m     \u001b[0mss\u001b[0m\u001b[0;34m.\u001b[0m\u001b[0mappend\u001b[0m\u001b[0;34m(\u001b[0m\u001b[0ms\u001b[0m\u001b[0;34m)\u001b[0m\u001b[0;34m\u001b[0m\u001b[0;34m\u001b[0m\u001b[0m\n\u001b[1;32m     10\u001b[0m     \u001b[0mhh\u001b[0m\u001b[0;34m.\u001b[0m\u001b[0mappend\u001b[0m\u001b[0;34m(\u001b[0m\u001b[0mh\u001b[0m\u001b[0;34m)\u001b[0m\u001b[0;34m\u001b[0m\u001b[0;34m\u001b[0m\u001b[0m\n",
      "\u001b[0;32m<ipython-input-13-f753d8693f94>\u001b[0m in \u001b[0;36mMain_M\u001b[0;34m(v, dimen, m_ranges, n_ranges)\u001b[0m\n\u001b[1;32m     24\u001b[0m     \u001b[0mM_n_height_matrix\u001b[0m \u001b[0;34m=\u001b[0m \u001b[0mnp\u001b[0m\u001b[0;34m.\u001b[0m\u001b[0mzeros\u001b[0m\u001b[0;34m(\u001b[0m\u001b[0;34m(\u001b[0m\u001b[0mm_length\u001b[0m\u001b[0;34m,\u001b[0m \u001b[0mn_length\u001b[0m\u001b[0;34m)\u001b[0m\u001b[0;34m)\u001b[0m\u001b[0;34m\u001b[0m\u001b[0;34m\u001b[0m\u001b[0m\n\u001b[1;32m     25\u001b[0m     \u001b[0;32mfor\u001b[0m \u001b[0mi\u001b[0m \u001b[0;32min\u001b[0m \u001b[0mtqdm\u001b[0m\u001b[0;34m(\u001b[0m\u001b[0mrange\u001b[0m\u001b[0;34m(\u001b[0m\u001b[0mm_length\u001b[0m\u001b[0;34m)\u001b[0m\u001b[0;34m)\u001b[0m\u001b[0;34m:\u001b[0m\u001b[0;34m\u001b[0m\u001b[0;34m\u001b[0m\u001b[0m\n\u001b[0;32m---> 26\u001b[0;31m         \u001b[0mM_Radius\u001b[0m \u001b[0;34m=\u001b[0m \u001b[0mRadius2fun\u001b[0m\u001b[0;34m(\u001b[0m\u001b[0mdimen\u001b[0m\u001b[0;34m,\u001b[0m \u001b[0mtheta_ranges\u001b[0m\u001b[0;34m,\u001b[0m \u001b[0mC_ranges\u001b[0m\u001b[0;34m,\u001b[0m \u001b[0mm_ranges\u001b[0m\u001b[0;34m[\u001b[0m\u001b[0mi\u001b[0m\u001b[0;34m]\u001b[0m\u001b[0;34m)\u001b[0m\u001b[0;31m# raidus matrix for certain m\u001b[0m\u001b[0;34m\u001b[0m\u001b[0;34m\u001b[0m\u001b[0m\n\u001b[0m\u001b[1;32m     27\u001b[0m         \u001b[0;32mfor\u001b[0m \u001b[0mj\u001b[0m \u001b[0;32min\u001b[0m \u001b[0mrange\u001b[0m\u001b[0;34m(\u001b[0m\u001b[0mn_length\u001b[0m\u001b[0;34m)\u001b[0m\u001b[0;34m:\u001b[0m\u001b[0;34m\u001b[0m\u001b[0;34m\u001b[0m\u001b[0m\n\u001b[1;32m     28\u001b[0m             \u001b[0mn_h\u001b[0m\u001b[0;34m,\u001b[0m \u001b[0mn_s\u001b[0m \u001b[0;34m=\u001b[0m \u001b[0maverage_mainfun\u001b[0m\u001b[0;34m(\u001b[0m\u001b[0mv\u001b[0m\u001b[0;34m,\u001b[0m \u001b[0mn_ranges\u001b[0m\u001b[0;34m[\u001b[0m\u001b[0mj\u001b[0m\u001b[0;34m]\u001b[0m\u001b[0;34m,\u001b[0m\u001b[0mm_ranges\u001b[0m\u001b[0;34m[\u001b[0m\u001b[0mi\u001b[0m\u001b[0;34m]\u001b[0m\u001b[0;34m,\u001b[0m \u001b[0mM_Radius\u001b[0m\u001b[0;34m,\u001b[0m \u001b[0mtheta_ranges\u001b[0m\u001b[0;34m,\u001b[0m \u001b[0mC_ranges\u001b[0m\u001b[0;34m)\u001b[0m\u001b[0;31m# droplet height and surface under certain m and n\u001b[0m\u001b[0;34m\u001b[0m\u001b[0;34m\u001b[0m\u001b[0m\n",
      "\u001b[0;32m<ipython-input-8-e51d20b0f29f>\u001b[0m in \u001b[0;36mRadius2fun\u001b[0;34m(dimension, theta_r, c_r, m)\u001b[0m\n\u001b[1;32m     26\u001b[0m         \u001b[0;32melse\u001b[0m\u001b[0;34m:\u001b[0m\u001b[0;34m\u001b[0m\u001b[0;34m\u001b[0m\u001b[0m\n\u001b[1;32m     27\u001b[0m             \u001b[0mr0\u001b[0m \u001b[0;34m=\u001b[0m \u001b[0mradius\u001b[0m\u001b[0;34m[\u001b[0m\u001b[0mi\u001b[0m\u001b[0;34m-\u001b[0m\u001b[0;36m1\u001b[0m\u001b[0;34m]\u001b[0m\u001b[0;34m\u001b[0m\u001b[0;34m\u001b[0m\u001b[0m\n\u001b[0;32m---> 28\u001b[0;31m             \u001b[0mR\u001b[0m \u001b[0;34m=\u001b[0m \u001b[0mr_solution_array\u001b[0m\u001b[0;34m(\u001b[0m\u001b[0mr0\u001b[0m\u001b[0;34m,\u001b[0m \u001b[0mtheta_r\u001b[0m\u001b[0;34m,\u001b[0m \u001b[0mc\u001b[0m\u001b[0;34m,\u001b[0m \u001b[0mm\u001b[0m\u001b[0;34m)\u001b[0m\u001b[0;34m\u001b[0m\u001b[0;34m\u001b[0m\u001b[0m\n\u001b[0m\u001b[1;32m     29\u001b[0m             \u001b[0mradius\u001b[0m\u001b[0;34m[\u001b[0m\u001b[0mi\u001b[0m\u001b[0;34m]\u001b[0m \u001b[0;34m=\u001b[0m \u001b[0mR\u001b[0m\u001b[0;34m\u001b[0m\u001b[0;34m\u001b[0m\u001b[0m\n\u001b[1;32m     30\u001b[0m     \u001b[0;32mreturn\u001b[0m \u001b[0mradius\u001b[0m\u001b[0;34m\u001b[0m\u001b[0;34m\u001b[0m\u001b[0m\n",
      "\u001b[0;32m<ipython-input-7-1d26971827f0>\u001b[0m in \u001b[0;36mr_solution_array\u001b[0;34m(r0, theta, c, m)\u001b[0m\n\u001b[1;32m     14\u001b[0m \u001b[0;34m\u001b[0m\u001b[0m\n\u001b[1;32m     15\u001b[0m     \u001b[0mdata\u001b[0m \u001b[0;34m=\u001b[0m \u001b[0;34m(\u001b[0m\u001b[0mtheta\u001b[0m\u001b[0;34m,\u001b[0m \u001b[0mc\u001b[0m\u001b[0;34m,\u001b[0m \u001b[0mm\u001b[0m\u001b[0;34m)\u001b[0m\u001b[0;34m\u001b[0m\u001b[0;34m\u001b[0m\u001b[0m\n\u001b[0;32m---> 16\u001b[0;31m     \u001b[0mr\u001b[0m\u001b[0;34m,\u001b[0m\u001b[0m_\u001b[0m\u001b[0;34m,\u001b[0m\u001b[0mier\u001b[0m\u001b[0;34m,\u001b[0m\u001b[0mmesg\u001b[0m \u001b[0;34m=\u001b[0m \u001b[0mfsolve\u001b[0m\u001b[0;34m(\u001b[0m\u001b[0mr2fun\u001b[0m\u001b[0;34m,\u001b[0m \u001b[0mr0\u001b[0m\u001b[0;34m,\u001b[0m \u001b[0margs\u001b[0m\u001b[0;34m=\u001b[0m\u001b[0mdata\u001b[0m\u001b[0;34m,\u001b[0m \u001b[0mfull_output\u001b[0m\u001b[0;34m=\u001b[0m\u001b[0;32mTrue\u001b[0m\u001b[0;34m)\u001b[0m\u001b[0;34m\u001b[0m\u001b[0;34m\u001b[0m\u001b[0m\n\u001b[0m\u001b[1;32m     17\u001b[0m     \u001b[0;32mif\u001b[0m \u001b[0mier\u001b[0m \u001b[0;34m!=\u001b[0m \u001b[0;36m1\u001b[0m\u001b[0;34m:\u001b[0m\u001b[0;34m\u001b[0m\u001b[0;34m\u001b[0m\u001b[0m\n\u001b[1;32m     18\u001b[0m         \u001b[0mprint\u001b[0m \u001b[0;34m(\u001b[0m\u001b[0;34m\"r_solution:I coudn't solve the algebraic constraint, error:\\n\\n:\"\u001b[0m\u001b[0;34m,\u001b[0m\u001b[0mc\u001b[0m\u001b[0;34m,\u001b[0m \u001b[0mm\u001b[0m\u001b[0;34m)\u001b[0m\u001b[0;34m\u001b[0m\u001b[0;34m\u001b[0m\u001b[0m\n",
      "\u001b[0;32m~/opt/anaconda3/lib/python3.7/site-packages/scipy/optimize/minpack.py\u001b[0m in \u001b[0;36mfsolve\u001b[0;34m(func, x0, args, fprime, full_output, col_deriv, xtol, maxfev, band, epsfcn, factor, diag)\u001b[0m\n\u001b[1;32m    145\u001b[0m                'diag': diag}\n\u001b[1;32m    146\u001b[0m \u001b[0;34m\u001b[0m\u001b[0m\n\u001b[0;32m--> 147\u001b[0;31m     \u001b[0mres\u001b[0m \u001b[0;34m=\u001b[0m \u001b[0m_root_hybr\u001b[0m\u001b[0;34m(\u001b[0m\u001b[0mfunc\u001b[0m\u001b[0;34m,\u001b[0m \u001b[0mx0\u001b[0m\u001b[0;34m,\u001b[0m \u001b[0margs\u001b[0m\u001b[0;34m,\u001b[0m \u001b[0mjac\u001b[0m\u001b[0;34m=\u001b[0m\u001b[0mfprime\u001b[0m\u001b[0;34m,\u001b[0m \u001b[0;34m**\u001b[0m\u001b[0moptions\u001b[0m\u001b[0;34m)\u001b[0m\u001b[0;34m\u001b[0m\u001b[0;34m\u001b[0m\u001b[0m\n\u001b[0m\u001b[1;32m    148\u001b[0m     \u001b[0;32mif\u001b[0m \u001b[0mfull_output\u001b[0m\u001b[0;34m:\u001b[0m\u001b[0;34m\u001b[0m\u001b[0;34m\u001b[0m\u001b[0m\n\u001b[1;32m    149\u001b[0m         \u001b[0mx\u001b[0m \u001b[0;34m=\u001b[0m \u001b[0mres\u001b[0m\u001b[0;34m[\u001b[0m\u001b[0;34m'x'\u001b[0m\u001b[0;34m]\u001b[0m\u001b[0;34m\u001b[0m\u001b[0;34m\u001b[0m\u001b[0m\n",
      "\u001b[0;32m~/opt/anaconda3/lib/python3.7/site-packages/scipy/optimize/minpack.py\u001b[0m in \u001b[0;36m_root_hybr\u001b[0;34m(func, x0, args, jac, col_deriv, xtol, maxfev, band, eps, factor, diag, **unknown_options)\u001b[0m\n\u001b[1;32m    223\u001b[0m             \u001b[0mmaxfev\u001b[0m \u001b[0;34m=\u001b[0m \u001b[0;36m200\u001b[0m \u001b[0;34m*\u001b[0m \u001b[0;34m(\u001b[0m\u001b[0mn\u001b[0m \u001b[0;34m+\u001b[0m \u001b[0;36m1\u001b[0m\u001b[0;34m)\u001b[0m\u001b[0;34m\u001b[0m\u001b[0;34m\u001b[0m\u001b[0m\n\u001b[1;32m    224\u001b[0m         retval = _minpack._hybrd(func, x0, args, 1, xtol, maxfev,\n\u001b[0;32m--> 225\u001b[0;31m                                  ml, mu, epsfcn, factor, diag)\n\u001b[0m\u001b[1;32m    226\u001b[0m     \u001b[0;32melse\u001b[0m\u001b[0;34m:\u001b[0m\u001b[0;34m\u001b[0m\u001b[0;34m\u001b[0m\u001b[0m\n\u001b[1;32m    227\u001b[0m         \u001b[0m_check_func\u001b[0m\u001b[0;34m(\u001b[0m\u001b[0;34m'fsolve'\u001b[0m\u001b[0;34m,\u001b[0m \u001b[0;34m'fprime'\u001b[0m\u001b[0;34m,\u001b[0m \u001b[0mDfun\u001b[0m\u001b[0;34m,\u001b[0m \u001b[0mx0\u001b[0m\u001b[0;34m,\u001b[0m \u001b[0margs\u001b[0m\u001b[0;34m,\u001b[0m \u001b[0mn\u001b[0m\u001b[0;34m,\u001b[0m \u001b[0;34m(\u001b[0m\u001b[0mn\u001b[0m\u001b[0;34m,\u001b[0m \u001b[0mn\u001b[0m\u001b[0;34m)\u001b[0m\u001b[0;34m)\u001b[0m\u001b[0;34m\u001b[0m\u001b[0;34m\u001b[0m\u001b[0m\n",
      "\u001b[0;32m<ipython-input-5-167b2512cead>\u001b[0m in \u001b[0;36mr2fun\u001b[0;34m(R, *data)\u001b[0m\n\u001b[1;32m     22\u001b[0m     \u001b[0;32mfor\u001b[0m \u001b[0mecho\u001b[0m \u001b[0;32min\u001b[0m \u001b[0mrange\u001b[0m\u001b[0;34m(\u001b[0m\u001b[0mN\u001b[0m\u001b[0;34m)\u001b[0m\u001b[0;34m:\u001b[0m\u001b[0;34m\u001b[0m\u001b[0;34m\u001b[0m\u001b[0m\n\u001b[1;32m     23\u001b[0m         \u001b[0mi\u001b[0m \u001b[0;34m=\u001b[0m \u001b[0mecho\u001b[0m\u001b[0;34m+\u001b[0m\u001b[0;36m1\u001b[0m\u001b[0;34m\u001b[0m\u001b[0;34m\u001b[0m\u001b[0m\n\u001b[0;32m---> 24\u001b[0;31m         \u001b[0mfi\u001b[0m \u001b[0;34m=\u001b[0m \u001b[0;34m(\u001b[0m\u001b[0;34m(\u001b[0m\u001b[0mnp\u001b[0m\u001b[0;34m.\u001b[0m\u001b[0msin\u001b[0m\u001b[0;34m(\u001b[0m\u001b[0mi\u001b[0m\u001b[0;34m*\u001b[0m\u001b[0mtheta_\u001b[0m\u001b[0;34m)\u001b[0m\u001b[0;34m)\u001b[0m\u001b[0;34m*\u001b[0m\u001b[0;34m(\u001b[0m\u001b[0my\u001b[0m\u001b[0;34m/\u001b[0m\u001b[0mfactor\u001b[0m\u001b[0;34m)\u001b[0m \u001b[0;34m+\u001b[0m \u001b[0mnp\u001b[0m\u001b[0;34m.\u001b[0m\u001b[0mcos\u001b[0m\u001b[0;34m(\u001b[0m\u001b[0mi\u001b[0m\u001b[0;34m*\u001b[0m\u001b[0mtheta_\u001b[0m\u001b[0;34m)\u001b[0m\u001b[0;34m*\u001b[0m\u001b[0;34m(\u001b[0m\u001b[0mx\u001b[0m\u001b[0;34m/\u001b[0m\u001b[0mfactor\u001b[0m\u001b[0;34m)\u001b[0m\u001b[0;34m)\u001b[0m\u001b[0;34m-\u001b[0m\u001b[0mr\u001b[0m\u001b[0;34m\u001b[0m\u001b[0;34m\u001b[0m\u001b[0m\n\u001b[0m\u001b[1;32m     25\u001b[0m         \u001b[0mf\u001b[0m \u001b[0;34m=\u001b[0m \u001b[0mf\u001b[0m\u001b[0;34m*\u001b[0m\u001b[0mfi\u001b[0m\u001b[0;34m\u001b[0m\u001b[0;34m\u001b[0m\u001b[0m\n\u001b[1;32m     26\u001b[0m     \u001b[0mf\u001b[0m \u001b[0;34m=\u001b[0m \u001b[0mnp\u001b[0m\u001b[0;34m.\u001b[0m\u001b[0mpower\u001b[0m\u001b[0;34m(\u001b[0m\u001b[0;34m-\u001b[0m\u001b[0;36m1\u001b[0m\u001b[0;34m,\u001b[0m \u001b[0mN\u001b[0m\u001b[0;34m)\u001b[0m\u001b[0;34m*\u001b[0m\u001b[0mf\u001b[0m\u001b[0;34m\u001b[0m\u001b[0;34m\u001b[0m\u001b[0m\n",
      "\u001b[0;31mKeyboardInterrupt\u001b[0m: "
     ]
    }
   ],
   "source": [
    "ss = []\n",
    "hh = []\n",
    "s_matrixs = []\n",
    "m_indexs = []\n",
    "n_indexs = []\n",
    "Dimen = 200\n",
    "for v in Volume:\n",
    "    s, h, s_matrix, m,n= Main_M(v, Dimen, m_ranges, n_ranges)\n",
    "    ss.append(s)\n",
    "    hh.append(h)\n",
    "    s_matrixs.append(s_matrix)\n",
    "    m_indexs.append(m)\n",
    "    n_indexs.append(n)"
   ]
  },
  {
   "cell_type": "code",
   "execution_count": 17,
   "metadata": {},
   "outputs": [
    {
     "data": {
      "text/plain": [
       "[array([0.5]), array([1.])]"
      ]
     },
     "execution_count": 17,
     "metadata": {},
     "output_type": "execute_result"
    }
   ],
   "source": [
    "m_indexs"
   ]
  },
  {
   "cell_type": "code",
   "execution_count": 18,
   "metadata": {},
   "outputs": [
    {
     "data": {
      "text/plain": [
       "[array([1.56]), array([1.24])]"
      ]
     },
     "execution_count": 18,
     "metadata": {},
     "output_type": "execute_result"
    }
   ],
   "source": [
    "n_indexs"
   ]
  },
  {
   "cell_type": "code",
   "execution_count": 19,
   "metadata": {},
   "outputs": [
    {
     "data": {
      "text/plain": [
       "[array([0.12556505]), array([0.66727434])]"
      ]
     },
     "execution_count": 19,
     "metadata": {},
     "output_type": "execute_result"
    }
   ],
   "source": [
    "hh"
   ]
  },
  {
   "cell_type": "code",
   "execution_count": 20,
   "metadata": {},
   "outputs": [
    {
     "data": {
      "text/plain": [
       "[1.0556323553690496, 2.483987963583553]"
      ]
     },
     "execution_count": 20,
     "metadata": {},
     "output_type": "execute_result"
    }
   ],
   "source": [
    "ss"
   ]
  },
  {
   "cell_type": "code",
   "execution_count": 21,
   "metadata": {},
   "outputs": [],
   "source": [
    "#surface_energy = s_matrixs[0]"
   ]
  },
  {
   "cell_type": "code",
   "execution_count": 22,
   "metadata": {},
   "outputs": [],
   "source": [
    "#savetxt('test_squ_03.csv', surface_energy, delimiter=',')"
   ]
  },
  {
   "cell_type": "code",
   "execution_count": null,
   "metadata": {},
   "outputs": [],
   "source": []
  },
  {
   "cell_type": "code",
   "execution_count": null,
   "metadata": {},
   "outputs": [],
   "source": []
  },
  {
   "cell_type": "code",
   "execution_count": null,
   "metadata": {},
   "outputs": [],
   "source": []
  },
  {
   "cell_type": "code",
   "execution_count": null,
   "metadata": {},
   "outputs": [],
   "source": []
  },
  {
   "cell_type": "code",
   "execution_count": null,
   "metadata": {},
   "outputs": [],
   "source": []
  }
 ],
 "metadata": {
  "kernelspec": {
   "display_name": "Python 3",
   "language": "python",
   "name": "python3"
  },
  "language_info": {
   "codemirror_mode": {
    "name": "ipython",
    "version": 3
   },
   "file_extension": ".py",
   "mimetype": "text/x-python",
   "name": "python",
   "nbconvert_exporter": "python",
   "pygments_lexer": "ipython3",
   "version": "3.7.4"
  }
 },
 "nbformat": 4,
 "nbformat_minor": 5
}
