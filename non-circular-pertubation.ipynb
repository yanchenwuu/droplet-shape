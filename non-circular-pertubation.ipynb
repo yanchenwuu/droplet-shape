{
 "cells": [
  {
   "cell_type": "code",
   "execution_count": 1,
   "id": "966a1f66",
   "metadata": {},
   "outputs": [],
   "source": [
    "import numpy as np\n",
    "import matplotlib.pyplot as plt\n",
    "from tqdm.auto import tqdm\n",
    "import pandas as pd\n",
    "from scipy.optimize import fsolve \n",
    "import sys\n",
    "import time\n",
    "from scipy import optimize\n",
    "from numpy import savetxt"
   ]
  },
  {
   "cell_type": "code",
   "execution_count": 2,
   "id": "d2c9cbba",
   "metadata": {},
   "outputs": [],
   "source": [
    "Dimensions=100\n",
    "Dimensions_1 = 50\n",
    "Dimensions_2= 50\n",
    "PI = np.pi\n",
    "R_0 = 0.5631 #R_0 is a constant associated with the area of the droplet base\n",
    "DEGREE = 2\n",
    "global Dimensions, PI, R_0, DEGREE"
   ]
  },
  {
   "cell_type": "code",
   "execution_count": 3,
   "id": "813264c8",
   "metadata": {},
   "outputs": [],
   "source": [
    "a1=np.linspace(1e-12,0.5-(0.999-0.5)/Dimensions_2, Dimensions_1) \n",
    "a2=np.linspace(0.5,0.999, Dimensions_2) \n",
    "C_RANGES= np.reshape(np.concatenate((a1, a2), axis=0), (-1,1))\n",
    "THETA_RANGES = np.linspace(0, 2*PI, Dimensions)"
   ]
  },
  {
   "cell_type": "code",
   "execution_count": 4,
   "id": "69cdd9e3",
   "metadata": {},
   "outputs": [],
   "source": [
    "def pertubation(theta, N):\n",
    "    return np.cos(N*theta)"
   ]
  },
  {
   "cell_type": "code",
   "execution_count": 5,
   "id": "43679925",
   "metadata": {},
   "outputs": [],
   "source": [
    "def dev_pertubation(theta, N):\n",
    "    return -N*np.sin(N*theta)"
   ]
  },
  {
   "cell_type": "code",
   "execution_count": 6,
   "id": "107e84cb",
   "metadata": {},
   "outputs": [],
   "source": [
    "def radius(theta, c, m, N, Pertubation):\n",
    "    pertu = pertubation(theta, N)\n",
    "    scalling = 1/(np.power((1+c), m))\n",
    "    r = (scalling*(1-c)+(np.power(1-c, m**DEGREE)*Pertubation*pertu))*R_0###use R_0=0.561 to sure the surface = 1\n",
    "    return r"
   ]
  },
  {
   "cell_type": "code",
   "execution_count": 7,
   "id": "84d33e06",
   "metadata": {},
   "outputs": [],
   "source": [
    "def Dev_r_theta(theta, c, m, N, Pertubation):\n",
    "    dev_per = dev_pertubation(theta, N)\n",
    "    d_r = Pertubation*np.power((1-c), m**DEGREE)*dev_per\n",
    "    return d_r"
   ]
  },
  {
   "cell_type": "code",
   "execution_count": 8,
   "id": "89ab787b",
   "metadata": {},
   "outputs": [],
   "source": [
    "def Dev_r_c(theta, c, m, N,Pertubation):\n",
    "    pertu = pertubation(theta, N)*Pertubation\n",
    "    A = 1/(np.power((1+c), m))\n",
    "    B = (1-c)*R_0\n",
    "    dA = -m*np.power(1+c, -m-1)\n",
    "    dB = -R_0\n",
    "    dC = -R_0*pertu*(m**DEGREE)*((1-c)**((m**DEGREE)-1))####require C != 1, when C == 1, there will be a signarity.\n",
    "    d_r = A*dB+B*dA+dC\n",
    "    return d_r"
   ]
  },
  {
   "cell_type": "code",
   "execution_count": 9,
   "id": "1b4dbb68",
   "metadata": {},
   "outputs": [],
   "source": [
    "def Dev_h_c(c, n):\n",
    "    d_h = n*np.power(c, n-1)####set c_max=1\n",
    "    return d_h"
   ]
  },
  {
   "cell_type": "code",
   "execution_count": 10,
   "id": "1675f851",
   "metadata": {},
   "outputs": [],
   "source": [
    "def Height_volume(v, n, M, Radius, Theta_ranges, C_ranges, N_circular, Pertubation):\n",
    "    dimen_c = len(C_ranges)\n",
    "    \n",
    "    d_theta = Theta_ranges[1]-Theta_ranges[0]#(Theta_ranges[-1]-Theta_ranges[0])/Dimensions\n",
    "    C_RANGES_diff = np.diff(C_ranges, axis=0)\n",
    "    C_RANGES_diff = np.reshape(np.append(C_RANGES_diff, C_RANGES_diff[-1,0] ), (-1,1))\n",
    "    d_c = C_RANGES_diff\n",
    "    d_base_area = 0.5*(Radius**2)*d_theta\n",
    "\n",
    "\n",
    "    d_h = Dev_h_c(C_ranges, n)\n",
    "    dv = (d_base_area*d_h)*d_c\n",
    "\n",
    "    volume = np.sum(dv)\n",
    "\n",
    "    H = v/volume\n",
    "     \n",
    "    d_r_theta = Dev_r_theta(Theta_ranges, C_ranges, M, N_circular, Pertubation)\n",
    "    d_r_c = Dev_r_c(Theta_ranges, C_ranges, M, N_circular, Pertubation)\n",
    "  \n",
    "    d_h_c = H*d_h\n",
    "    \n",
    "    \n",
    "    ds = np.sqrt(Radius**2+d_r_theta**2)*d_theta\n",
    "    dl = np.sqrt(d_r_c**2+d_h_c**2)*d_c\n",
    "    \n",
    "    surface = ds*dl\n",
    "\n",
    "    \n",
    "    surface_size = np.sum(surface)\n",
    "    \n",
    "    return H, surface_size"
   ]
  },
  {
   "cell_type": "code",
   "execution_count": 11,
   "id": "b195b576",
   "metadata": {},
   "outputs": [],
   "source": [
    "def Main(v, n_ranges, m_ranges, Theta_ranges, C_ranges, N_circular, Pertubation):\n",
    "    n_length = len(n_ranges)\n",
    "    m_length = len(m_ranges)\n",
    "    surface_matrix = np.zeros((m_length, n_length))\n",
    "    height_matrix = np.zeros((m_length, n_length))\n",
    "    for i in range(m_length):\n",
    "        Radius = radius(Theta_ranges, C_ranges, m_ranges[i], N_circular, Pertubation)\n",
    "        for j in range(n_length):\n",
    "            height, surface = Height_volume(v, n_ranges[j], m_ranges[i], Radius,\n",
    "                                            Theta_ranges, C_ranges, N_circular, Pertubation)\n",
    "            surface_matrix[i][j] = surface\n",
    "            height_matrix[i][j] = height\n",
    "    surface_min = surface_matrix.min()\n",
    "    index = np.where(surface_matrix==np.min(surface_matrix))\n",
    "    height_min = height_matrix[index][0]\n",
    "    return surface_min, height_min, surface_matrix"
   ]
  },
  {
   "cell_type": "code",
   "execution_count": 12,
   "id": "09a3acf6",
   "metadata": {},
   "outputs": [],
   "source": [
    "def loop_volume(v, N_circular, Pertubation):\n",
    "    m_l=[1, 0.5,0.1,0.05,0.01,0.005,0.001]\n",
    "    n_l=[0.1,0.05,0.01,0.005,0.001,0.0005,0.0001]\n",
    "    levels = len(m_l)\n",
    "    n_start = 0.5\n",
    "    n_stop = 3\n",
    "    m_start = -10\n",
    "    m_stop = 20\n",
    "    i = 0 \n",
    "    Start = True\n",
    "    while (i<levels):\n",
    "        dimen = 200\n",
    "        if (Start==True):\n",
    "            m_ranges = np.arange(m_start, m_stop, m_l[i])\n",
    "            n_ranges = np.arange(n_start,n_stop, n_l[i])\n",
    "            Start = False\n",
    "        else:\n",
    "            pass\n",
    "#         print(m_ranges)\n",
    "#         print(n_ranges)\n",
    "        s_g, h_g,energy_g= Main(v,n_ranges, m_ranges, THETA_RANGES, C_RANGES, N_circular, Pertubation)\n",
    "        index = np.where(energy_g == np.min(energy_g))\n",
    "        m = index[0][0]\n",
    "        n = index[1][0]\n",
    "#         print('i', i)\n",
    "#         print('m', m)\n",
    "#         print('n', n)\n",
    "        m_lst_index = len(m_ranges)-1\n",
    "        n_lst_index = len(n_ranges)-1\n",
    "        if (m ==0)|(m==m_lst_index)|(n==0)|(n==n_lst_index):\n",
    "            m_ranges = np.arange(m_ranges[m]-m_l[i], m_ranges[m]+2*m_l[i], m_l[i])\n",
    "            n_ranges = np.arange(n_ranges[n]-n_l[i], n_ranges[n]+2*n_l[i], n_l[i])\n",
    "        else:\n",
    "            if (i+1) <levels:\n",
    "                m_ranges = np.arange(m_ranges[m]-m_l[i], m_ranges[m]+m_l[i]+m_l[i+1], m_l[i+1])\n",
    "                n_ranges = np.arange(n_ranges[n]-n_l[i], n_ranges[n]+n_l[i]+n_l[i+1], n_l[i+1])\n",
    "                i = i+1\n",
    "            else:\n",
    "                break\n",
    "    surface = s_g\n",
    "    height = h_g\n",
    "    Energy = energy_g\n",
    "    return surface, height, Energy,  m_ranges[m], n_ranges[n]"
   ]
  },
  {
   "cell_type": "markdown",
   "id": "36b522ed",
   "metadata": {},
   "source": [
    "### Pertubation = 0.01, 0.02,0.05,0.07"
   ]
  },
  {
   "cell_type": "code",
   "execution_count": null,
   "id": "ef718d8a",
   "metadata": {},
   "outputs": [],
   "source": []
  },
  {
   "cell_type": "code",
   "execution_count": 13,
   "id": "ac251a42",
   "metadata": {},
   "outputs": [],
   "source": [
    "Volume = 0.1\n",
    "N_c = 4\n",
    "Pers = [0.01,0.02,0.05,0.07, 0.1]\n",
    "Surface = []\n",
    "Height = []\n",
    "Energy = []\n",
    "m_matrix = []\n",
    "n_matrix = []\n",
    "for per in Pers:\n",
    "    s,h,e,m,n = loop_volume(Volume, N_c,per)\n",
    "    Surface.append(s)\n",
    "    Height.append(h)\n",
    "    Energy.append(e)\n",
    "    m_matrix.append(m)\n",
    "    n_matrix.append(n)"
   ]
  },
  {
   "cell_type": "code",
   "execution_count": 14,
   "id": "f13cbc9a",
   "metadata": {},
   "outputs": [
    {
     "data": {
      "text/plain": [
       "[0.23775434272066684,\n",
       " 0.24000668574420228,\n",
       " 0.2424135757638782,\n",
       " 0.24330414454538785,\n",
       " 0.2429281495024823]"
      ]
     },
     "execution_count": 14,
     "metadata": {},
     "output_type": "execute_result"
    }
   ],
   "source": [
    "Height"
   ]
  },
  {
   "cell_type": "code",
   "execution_count": 15,
   "id": "ace7aa8d",
   "metadata": {},
   "outputs": [
    {
     "data": {
      "text/plain": [
       "[1.1284423867936377,\n",
       " 1.1310477769135474,\n",
       " 1.1472495924751611,\n",
       " 1.1633910816890773,\n",
       " 1.1931203786850326]"
      ]
     },
     "execution_count": 15,
     "metadata": {},
     "output_type": "execute_result"
    }
   ],
   "source": [
    "Surface"
   ]
  },
  {
   "cell_type": "code",
   "execution_count": null,
   "id": "25ea01f0",
   "metadata": {},
   "outputs": [],
   "source": [
    "m_matrix"
   ]
  },
  {
   "cell_type": "code",
   "execution_count": null,
   "id": "4a6b53e2",
   "metadata": {},
   "outputs": [],
   "source": [
    "n_matrix"
   ]
  },
  {
   "cell_type": "code",
   "execution_count": null,
   "id": "f7df792b",
   "metadata": {},
   "outputs": [],
   "source": [
    "fig = plt.figure(figsize=(5,5), dpi=300)\n",
    "ax_1=fig.add_subplot(1,1,1)\n",
    "\n",
    "\n",
    "\n",
    "\n",
    "ax_1.plot(Pers,Height,color=\"#C40f5B\",lw =2, marker = 'o', label = 'Theoretical')\n",
    "\n",
    "ax_1.set_title('Non-circular')\n",
    "ax_1.set_ylabel('Height')\n",
    "ax_1.set_xlabel('pertubation')\n",
    "\n",
    "\n",
    "ax_1.legend(loc='upper right', fontsize=8, numpoints=1, framealpha=0.5)\n",
    "ax_1.tick_params(axis=\"y\", direction='in')\n",
    "ax_1.tick_params(axis=\"x\", direction='in')\n",
    "plt.savefig('non_circular_Height_pertubation.pdf', bbox_inches='tight')"
   ]
  },
  {
   "cell_type": "code",
   "execution_count": null,
   "id": "4bb5e456",
   "metadata": {},
   "outputs": [],
   "source": [
    "fig = plt.figure(figsize=(5,5), dpi=300)\n",
    "ax_1=fig.add_subplot(1,1,1)\n",
    "\n",
    "\n",
    "\n",
    "\n",
    "ax_1.plot(Pers,Surface,color=\"#C40f5B\",lw =2, marker = 'o', label = 'Theoretical')\n",
    "\n",
    "\n",
    "ax_1.set_title('Non-circular')\n",
    "ax_1.set_ylabel('Surface')\n",
    "ax_1.set_xlabel('pertubation')\n",
    "\n",
    "ax_1.legend(loc='upper right', fontsize=8, numpoints=1, framealpha=0.5)\n",
    "ax_1.tick_params(axis=\"y\", direction='in')\n",
    "ax_1.tick_params(axis=\"x\", direction='in')\n",
    "plt.savefig('non_circular_surface_pertubation.pdf', bbox_inches='tight')"
   ]
  },
  {
   "cell_type": "markdown",
   "id": "19bff6f9",
   "metadata": {},
   "source": [
    "## Pertubation = 0.01"
   ]
  },
  {
   "cell_type": "code",
   "execution_count": null,
   "id": "250cb9a8",
   "metadata": {},
   "outputs": [],
   "source": [
    "Radius = radius(THETA_RANGES, C_RANGES, m_matrix[0], 4, Pers[0])\n",
    "Radius.shape\n",
    "x = Radius*np.cos(THETA_RANGES)\n",
    "y = Radius*np.sin(THETA_RANGES)\n",
    "z = Height[0]*(C_RANGES)**n_matrix[0]\n",
    "z_0 = np.ones(THETA_RANGES.shape[0])"
   ]
  },
  {
   "cell_type": "code",
   "execution_count": null,
   "id": "f086b90a",
   "metadata": {},
   "outputs": [],
   "source": []
  },
  {
   "cell_type": "code",
   "execution_count": null,
   "id": "a2cb854a",
   "metadata": {},
   "outputs": [],
   "source": []
  },
  {
   "cell_type": "code",
   "execution_count": null,
   "id": "0c50fd93",
   "metadata": {},
   "outputs": [],
   "source": [
    "fig = plt.figure(figsize=(5,5), dpi=300)\n",
    "ax=fig.add_subplot(1,1,1)\n",
    "ax.spines['left'].set_position('center')\n",
    "ax.spines['bottom'].set_position('center')\n",
    "ax.spines['right'].set_color('none')\n",
    "ax.spines['top'].set_color('none')\n",
    "ax.xaxis.set_ticks_position('bottom')\n",
    "ax.yaxis.set_ticks_position('left')\n",
    "\n",
    "for i in np.arange(0,100,10):\n",
    "    ax.plot(x[i], y[i],linestyle='--',color='dimgrey')\n",
    "\n",
    "ax.plot(x[0], y[0])\n",
    "fig.savefig('Non-circular-per001.pdf', bbox_inches='tight')"
   ]
  },
  {
   "cell_type": "code",
   "execution_count": null,
   "id": "26f6c0f5",
   "metadata": {},
   "outputs": [],
   "source": [
    "fig = plt.figure(figsize = (5,5), dpi=300)\n",
    "ax = plt.axes(projection='3d')\n",
    "# ax.xaxis.set_pane_color((1.0, 1.0, 1.0, 0.0))\n",
    "# ax.yaxis.set_pane_color((1.0, 1.0, 1.0, 0.0))\n",
    "# ax.zaxis.set_pane_color((1.0, 1.0, 1.0, 0.0))\n",
    "\n",
    "val = [0.8,0,0]\n",
    "labels = ['x', 'y', 'z']\n",
    "colors = ['r', 'g', 'b']\n",
    "for v in range(3):\n",
    "    axx = [val[v-0], -val[v-0]]\n",
    "    axy = [val[v-1], -val[v-1]]\n",
    "    axz = [val[v-2], -val[v-2]]\n",
    "    ax.plot(axx,axy,axz,'k-', linewidth=1)\n",
    "    ax.text(val[v-0], val[v-1], val[v-2], labels[v], color=colors[v], fontsize=20)\n",
    "\n",
    "\n",
    "for i in np.arange(1,100,10):\n",
    "        ax.plot(x[i], y[i],z_0*z[i], color='dimgrey')\n",
    "ax.plot(x[0], y[0],z_0*z[0], lw=2)\n",
    "ax.set_zlim(0,1.3)\n",
    "ax.set_axis_off()\n",
    "ax.grid(False)\n",
    "fig.savefig('Non-circular-per001_with_xyz.pdf', bbox_inches='tight')"
   ]
  },
  {
   "cell_type": "code",
   "execution_count": null,
   "id": "6a20c25c",
   "metadata": {},
   "outputs": [],
   "source": [
    "fig = plt.figure(figsize = (5,5), dpi=300)\n",
    "ax = plt.axes(projection='3d')\n",
    "# ax.xaxis.set_pane_color((1.0, 1.0, 1.0, 0.0))\n",
    "# ax.yaxis.set_pane_color((1.0, 1.0, 1.0, 0.0))\n",
    "# ax.zaxis.set_pane_color((1.0, 1.0, 1.0, 0.0))\n",
    "\n",
    "\n",
    "\n",
    "for i in np.arange(1,100,10):\n",
    "        ax.plot(x[i], y[i],z_0*z[i], color='dimgrey')\n",
    "ax.plot(x[0], y[0],z_0*z[0], lw=2)\n",
    "ax.set_zlim(0,1.3)\n",
    "ax.set_axis_off()\n",
    "ax.grid(False)\n",
    "fig.savefig('Non-circular-per001_3D.pdf', bbox_inches='tight')"
   ]
  },
  {
   "cell_type": "markdown",
   "id": "1daac848",
   "metadata": {},
   "source": [
    "## Pertubation = 0.02"
   ]
  },
  {
   "cell_type": "code",
   "execution_count": null,
   "id": "9bea876a",
   "metadata": {},
   "outputs": [],
   "source": [
    "Radius = radius(THETA_RANGES, C_RANGES, m_matrix[1], 4, Pers[1])\n",
    "Radius.shape\n",
    "x = Radius*np.cos(THETA_RANGES)\n",
    "y = Radius*np.sin(THETA_RANGES)\n",
    "z = Height[1]*(C_RANGES)**n_matrix[1]\n",
    "z_0 = np.ones(THETA_RANGES.shape[0])"
   ]
  },
  {
   "cell_type": "code",
   "execution_count": null,
   "id": "da6a5b61",
   "metadata": {},
   "outputs": [],
   "source": [
    "fig = plt.figure(figsize=(5,5), dpi=300)\n",
    "ax=fig.add_subplot(1,1,1)\n",
    "ax.spines['left'].set_position('center')\n",
    "ax.spines['bottom'].set_position('center')\n",
    "ax.spines['right'].set_color('none')\n",
    "ax.spines['top'].set_color('none')\n",
    "ax.xaxis.set_ticks_position('bottom')\n",
    "ax.yaxis.set_ticks_position('left')\n",
    "\n",
    "for i in np.arange(0,100,20):\n",
    "    ax.plot(x[i], y[i],linestyle='--',color='dimgrey')\n",
    "\n",
    "ax.plot(x[0], y[0])\n",
    "fig.savefig('Non-circular-per002.pdf', bbox_inches='tight')"
   ]
  },
  {
   "cell_type": "code",
   "execution_count": null,
   "id": "0a7b90a5",
   "metadata": {},
   "outputs": [],
   "source": [
    "fig = plt.figure(figsize = (5,5), dpi=300)\n",
    "ax = plt.axes(projection='3d')\n",
    "# ax.xaxis.set_pane_color((1.0, 1.0, 1.0, 0.0))\n",
    "# ax.yaxis.set_pane_color((1.0, 1.0, 1.0, 0.0))\n",
    "# ax.zaxis.set_pane_color((1.0, 1.0, 1.0, 0.0))\n",
    "\n",
    "val = [0.8,0,0]\n",
    "labels = ['x', 'y', 'z']\n",
    "colors = ['r', 'g', 'b']\n",
    "for v in range(3):\n",
    "    axx = [val[v-0], -val[v-0]]\n",
    "    axy = [val[v-1], -val[v-1]]\n",
    "    axz = [val[v-2], -val[v-2]]\n",
    "    ax.plot(axx,axy,axz,'k-', linewidth=1)\n",
    "    ax.text(val[v-0], val[v-1], val[v-2], labels[v], color=colors[v], fontsize=20)\n",
    "\n",
    "\n",
    "for i in np.arange(1,100,10):\n",
    "        ax.plot(x[i], y[i],z_0*z[i], color='dimgrey')\n",
    "ax.plot(x[0], y[0],z_0*z[0], lw=2)\n",
    "# ax.set_zlim(0,1.3)\n",
    "ax.set_axis_off()\n",
    "ax.grid(False)\n",
    "fig.savefig('Non-circular-per002_with_xyz.pdf', bbox_inches='tight')"
   ]
  },
  {
   "cell_type": "code",
   "execution_count": null,
   "id": "5b19cfc6",
   "metadata": {},
   "outputs": [],
   "source": [
    "fig = plt.figure(figsize = (5,5), dpi=300)\n",
    "ax = plt.axes(projection='3d')\n",
    "# ax.xaxis.set_pane_color((1.0, 1.0, 1.0, 0.0))\n",
    "# ax.yaxis.set_pane_color((1.0, 1.0, 1.0, 0.0))\n",
    "# ax.zaxis.set_pane_color((1.0, 1.0, 1.0, 0.0))\n",
    "\n",
    "\n",
    "\n",
    "for i in np.arange(1,100,10):\n",
    "        ax.plot(x[i], y[i],z_0*z[i], color='dimgrey')\n",
    "ax.plot(x[0], y[0],z_0*z[0], lw=2)\n",
    "ax.set_zlim(0,1.3)\n",
    "ax.set_axis_off()\n",
    "ax.grid(False)\n",
    "fig.savefig('Non-circular-per002_3D.pdf', bbox_inches='tight')"
   ]
  },
  {
   "cell_type": "markdown",
   "id": "4aae0cad",
   "metadata": {},
   "source": [
    "## Pertubation=0.05"
   ]
  },
  {
   "cell_type": "code",
   "execution_count": null,
   "id": "8168ac8d",
   "metadata": {},
   "outputs": [],
   "source": [
    "Radius = radius(THETA_RANGES, C_RANGES, m_matrix[2], 4, Pers[2])\n",
    "Radius.shape\n",
    "x = Radius*np.cos(THETA_RANGES)\n",
    "y = Radius*np.sin(THETA_RANGES)\n",
    "z = Height[2]*(C_RANGES)**n_matrix[2]\n",
    "z_0 = np.ones(THETA_RANGES.shape[0])"
   ]
  },
  {
   "cell_type": "code",
   "execution_count": null,
   "id": "f9659045",
   "metadata": {},
   "outputs": [],
   "source": [
    "fig = plt.figure(figsize=(5,5), dpi=300)\n",
    "ax=fig.add_subplot(1,1,1)\n",
    "ax.spines['left'].set_position('center')\n",
    "ax.spines['bottom'].set_position('center')\n",
    "ax.spines['right'].set_color('none')\n",
    "ax.spines['top'].set_color('none')\n",
    "ax.xaxis.set_ticks_position('bottom')\n",
    "ax.yaxis.set_ticks_position('left')\n",
    "\n",
    "for i in np.arange(0,100,20):\n",
    "    ax.plot(x[i], y[i],linestyle='--',color='dimgrey')\n",
    "\n",
    "ax.plot(x[0], y[0])\n",
    "fig.savefig('Non-circular-per005.pdf', bbox_inches='tight')"
   ]
  },
  {
   "cell_type": "code",
   "execution_count": null,
   "id": "ffc5bc69",
   "metadata": {},
   "outputs": [],
   "source": [
    "fig = plt.figure(figsize = (5,5), dpi=300)\n",
    "ax = plt.axes(projection='3d')\n",
    "# ax.xaxis.set_pane_color((1.0, 1.0, 1.0, 0.0))\n",
    "# ax.yaxis.set_pane_color((1.0, 1.0, 1.0, 0.0))\n",
    "# ax.zaxis.set_pane_color((1.0, 1.0, 1.0, 0.0))\n",
    "\n",
    "val = [0.8,0,0]\n",
    "labels = ['x', 'y', 'z']\n",
    "colors = ['r', 'g', 'b']\n",
    "for v in range(3):\n",
    "    axx = [val[v-0], -val[v-0]]\n",
    "    axy = [val[v-1], -val[v-1]]\n",
    "    axz = [val[v-2], -val[v-2]]\n",
    "    ax.plot(axx,axy,axz,'k-', linewidth=1)\n",
    "    ax.text(val[v-0], val[v-1], val[v-2], labels[v], color=colors[v], fontsize=20)\n",
    "\n",
    "\n",
    "for i in np.arange(1,100,10):\n",
    "        ax.plot(x[i], y[i],z_0*z[i], color='dimgrey')\n",
    "ax.plot(x[0], y[0],z_0*z[0], lw=2)\n",
    "ax.set_zlim(0,1.3)\n",
    "ax.set_axis_off()\n",
    "ax.grid(False)\n",
    "fig.savefig('Non-circular-per005_with_xyz.pdf', bbox_inches='tight')"
   ]
  },
  {
   "cell_type": "code",
   "execution_count": null,
   "id": "a39049a3",
   "metadata": {},
   "outputs": [],
   "source": [
    "fig = plt.figure(figsize = (5,5), dpi=300)\n",
    "ax = plt.axes(projection='3d')\n",
    "# ax.xaxis.set_pane_color((1.0, 1.0, 1.0, 0.0))\n",
    "# ax.yaxis.set_pane_color((1.0, 1.0, 1.0, 0.0))\n",
    "# ax.zaxis.set_pane_color((1.0, 1.0, 1.0, 0.0))\n",
    "\n",
    "\n",
    "\n",
    "for i in np.arange(1,100,10):\n",
    "        ax.plot(x[i], y[i],z_0*z[i], color='dimgrey')\n",
    "ax.plot(x[0], y[0],z_0*z[0], lw=2)\n",
    "ax.set_zlim(0,1.3)\n",
    "ax.set_axis_off()\n",
    "ax.grid(False)\n",
    "fig.savefig('Non-circular-per005_3D.pdf', bbox_inches='tight')"
   ]
  },
  {
   "cell_type": "markdown",
   "id": "0a9edc78",
   "metadata": {},
   "source": [
    "### pertubation=0.07"
   ]
  },
  {
   "cell_type": "code",
   "execution_count": null,
   "id": "b0744181",
   "metadata": {},
   "outputs": [],
   "source": [
    "Radius = radius(THETA_RANGES, C_RANGES, m_matrix[4], 4,Pers[3])\n",
    "Radius.shape\n",
    "x = Radius*np.cos(THETA_RANGES)\n",
    "y = Radius*np.sin(THETA_RANGES)\n",
    "z = Height[4]*(C_RANGES)**n_matrix[4]\n",
    "z_0 = np.ones(THETA_RANGES.shape[0])"
   ]
  },
  {
   "cell_type": "code",
   "execution_count": null,
   "id": "24102a08",
   "metadata": {},
   "outputs": [],
   "source": [
    "fig = plt.figure(figsize=(5,5), dpi=300)\n",
    "ax=fig.add_subplot(1,1,1)\n",
    "ax.spines['left'].set_position('center')\n",
    "ax.spines['bottom'].set_position('center')\n",
    "ax.spines['right'].set_color('none')\n",
    "ax.spines['top'].set_color('none')\n",
    "ax.xaxis.set_ticks_position('bottom')\n",
    "ax.yaxis.set_ticks_position('left')\n",
    "\n",
    "for i in np.arange(0,100,10):\n",
    "    ax.plot(x[i], y[i],linestyle='--',color='dimgrey')\n",
    "\n",
    "ax.plot(x[0], y[0])\n",
    "fig.savefig('Non-circular-pertubation007.pdf', bbox_inches='tight')"
   ]
  },
  {
   "cell_type": "code",
   "execution_count": null,
   "id": "111ebb63",
   "metadata": {},
   "outputs": [],
   "source": [
    "fig = plt.figure(figsize = (5,5), dpi=300)\n",
    "ax = plt.axes(projection='3d')\n",
    "# ax.xaxis.set_pane_color((1.0, 1.0, 1.0, 0.0))\n",
    "# ax.yaxis.set_pane_color((1.0, 1.0, 1.0, 0.0))\n",
    "# ax.zaxis.set_pane_color((1.0, 1.0, 1.0, 0.0))\n",
    "\n",
    "val = [0.8,0,0]\n",
    "labels = ['x', 'y', 'z']\n",
    "colors = ['r', 'g', 'b']\n",
    "for v in range(3):\n",
    "    axx = [val[v-0], -val[v-0]]\n",
    "    axy = [val[v-1], -val[v-1]]\n",
    "    axz = [val[v-2], -val[v-2]]\n",
    "    ax.plot(axx,axy,axz,'k-', linewidth=1)\n",
    "    ax.text(val[v-0], val[v-1], val[v-2], labels[v], color=colors[v], fontsize=20)\n",
    "\n",
    "\n",
    "for i in np.arange(1,100,10):\n",
    "        ax.plot(x[i], y[i],z_0*z[i], color='dimgrey')\n",
    "ax.plot(x[0], y[0],z_0*z[0], lw=2)\n",
    "ax.set_zlim(0,1.3)\n",
    "ax.set_axis_off()\n",
    "ax.grid(False)\n",
    "fig.savefig('Non-circular-pertubation007_with_xyz.pdf', bbox_inches='tight')"
   ]
  },
  {
   "cell_type": "code",
   "execution_count": null,
   "id": "9761230c",
   "metadata": {},
   "outputs": [],
   "source": [
    "fig = plt.figure(figsize = (5,5), dpi=300)\n",
    "ax = plt.axes(projection='3d')\n",
    "# ax.xaxis.set_pane_color((1.0, 1.0, 1.0, 0.0))\n",
    "# ax.yaxis.set_pane_color((1.0, 1.0, 1.0, 0.0))\n",
    "# ax.zaxis.set_pane_color((1.0, 1.0, 1.0, 0.0))\n",
    "\n",
    "\n",
    "\n",
    "for i in np.arange(1,100,10):\n",
    "        ax.plot(x[i], y[i],z_0*z[i], color='dimgrey')\n",
    "ax.plot(x[0], y[0],z_0*z[0], lw=2)\n",
    "ax.set_zlim(0,1.3)\n",
    "ax.set_axis_off()\n",
    "ax.grid(False)\n",
    "fig.savefig('Non-circular-pertubation007_3D.pdf', bbox_inches='tight')"
   ]
  },
  {
   "cell_type": "markdown",
   "id": "cc4158f6",
   "metadata": {},
   "source": [
    "### Pertubation 0.1"
   ]
  },
  {
   "cell_type": "code",
   "execution_count": null,
   "id": "f9cc23ad",
   "metadata": {},
   "outputs": [],
   "source": [
    "Radius = radius(THETA_RANGES, C_RANGES, m_matrix[4], 4,Pers[4])\n",
    "Radius.shape\n",
    "x = Radius*np.cos(THETA_RANGES)\n",
    "y = Radius*np.sin(THETA_RANGES)\n",
    "z = Height[4]*(C_RANGES)**n_matrix[4]\n",
    "z_0 = np.ones(THETA_RANGES.shape[0])"
   ]
  },
  {
   "cell_type": "code",
   "execution_count": null,
   "id": "bfc6be79",
   "metadata": {},
   "outputs": [],
   "source": [
    "fig = plt.figure(figsize=(5,5), dpi=300)\n",
    "ax=fig.add_subplot(1,1,1)\n",
    "ax.spines['left'].set_position('center')\n",
    "ax.spines['bottom'].set_position('center')\n",
    "ax.spines['right'].set_color('none')\n",
    "ax.spines['top'].set_color('none')\n",
    "ax.xaxis.set_ticks_position('bottom')\n",
    "ax.yaxis.set_ticks_position('left')\n",
    "\n",
    "for i in np.arange(0,100,10):\n",
    "    ax.plot(x[i], y[i],linestyle='--',color='dimgrey')\n",
    "\n",
    "ax.plot(x[0], y[0])\n",
    "fig.savefig('Non-circular-pertubation01.pdf', bbox_inches='tight')"
   ]
  },
  {
   "cell_type": "code",
   "execution_count": null,
   "id": "919ebce8",
   "metadata": {},
   "outputs": [],
   "source": [
    "fig = plt.figure(figsize = (5,5), dpi=300)\n",
    "ax = plt.axes(projection='3d')\n",
    "# ax.xaxis.set_pane_color((1.0, 1.0, 1.0, 0.0))\n",
    "# ax.yaxis.set_pane_color((1.0, 1.0, 1.0, 0.0))\n",
    "# ax.zaxis.set_pane_color((1.0, 1.0, 1.0, 0.0))\n",
    "\n",
    "val = [0.8,0,0]\n",
    "labels = ['x', 'y', 'z']\n",
    "colors = ['r', 'g', 'b']\n",
    "for v in range(3):\n",
    "    axx = [val[v-0], -val[v-0]]\n",
    "    axy = [val[v-1], -val[v-1]]\n",
    "    axz = [val[v-2], -val[v-2]]\n",
    "    ax.plot(axx,axy,axz,'k-', linewidth=1)\n",
    "    ax.text(val[v-0], val[v-1], val[v-2], labels[v], color=colors[v], fontsize=20)\n",
    "\n",
    "\n",
    "for i in np.arange(1,100,10):\n",
    "        ax.plot(x[i], y[i],z_0*z[i], color='dimgrey')\n",
    "ax.plot(x[0], y[0],z_0*z[0], lw=2)\n",
    "ax.set_zlim(0,1.3)\n",
    "ax.set_axis_off()\n",
    "ax.grid(False)\n",
    "fig.savefig('Non-circular-per01_with_xyz.pdf', bbox_inches='tight')"
   ]
  },
  {
   "cell_type": "code",
   "execution_count": null,
   "id": "2b776bf9",
   "metadata": {},
   "outputs": [],
   "source": [
    "fig = plt.figure(figsize = (5,5), dpi=300)\n",
    "ax = plt.axes(projection='3d')\n",
    "# ax.xaxis.set_pane_color((1.0, 1.0, 1.0, 0.0))\n",
    "# ax.yaxis.set_pane_color((1.0, 1.0, 1.0, 0.0))\n",
    "# ax.zaxis.set_pane_color((1.0, 1.0, 1.0, 0.0))\n",
    "\n",
    "\n",
    "\n",
    "for i in np.arange(1,100,10):\n",
    "        ax.plot(x[i], y[i],z_0*z[i], color='dimgrey')\n",
    "ax.plot(x[0], y[0],z_0*z[0], lw=2)\n",
    "ax.set_zlim(0,1.3)\n",
    "ax.set_axis_off()\n",
    "ax.grid(False)\n",
    "fig.savefig('Non-circular-pertubation1_3D.pdf', bbox_inches='tight')"
   ]
  },
  {
   "cell_type": "code",
   "execution_count": null,
   "id": "21c6af20",
   "metadata": {},
   "outputs": [],
   "source": []
  }
 ],
 "metadata": {
  "kernelspec": {
   "display_name": "Python 3 (ipykernel)",
   "language": "python",
   "name": "python3"
  },
  "language_info": {
   "codemirror_mode": {
    "name": "ipython",
    "version": 3
   },
   "file_extension": ".py",
   "mimetype": "text/x-python",
   "name": "python",
   "nbconvert_exporter": "python",
   "pygments_lexer": "ipython3",
   "version": "3.9.7"
  }
 },
 "nbformat": 4,
 "nbformat_minor": 5
}
