{
 "cells": [
  {
   "cell_type": "code",
   "execution_count": 1,
   "metadata": {},
   "outputs": [
    {
     "data": {
      "text/plain": [
       "'\\nThis Jupyter notebook implements the code from the\\npaper \"Unveiling the Complex Morphologies of Sessile Droplets on Heterogeneous Surfaces\"\\nfor a flower-pattern substrate.\\nThe notebook defines several global constants that describe the shape of the substrate.\\nThese constants typically do not need to be modified.\\nA good entry point for the code is the function \"radius\".\\nThis function calculates the radius matrix for a given droplet volume v.\\nThe radius matrix is then processed by function \" Height_volume\",\\nwhich computes the droplet height H and the droplet surface area under specific m and n constraints.\\nBy looping over a range of m and n values for a given droplet volume,\\nthe surface area matrix is obtained through function \"Main\". The minimum value in the surface area matrix,\\nS_min, is identified, along with the corresponding parameters m and n.\\n\\nResults:\\nThe minimum surface area S_min and the corresponding parameters m and n\\nare identified, providing insights into the morphology of sessile droplets on flower-pattern substrat.\\n'"
      ]
     },
     "execution_count": 1,
     "metadata": {},
     "output_type": "execute_result"
    }
   ],
   "source": [
    "\"\"\"\n",
    "This Jupyter notebook implements the code from the\n",
    "paper \"Unveiling the Complex Morphologies of Sessile Droplets on Heterogeneous Surfaces\"\n",
    "for a flower-pattern substrate.\n",
    "The notebook defines several global constants that describe the shape of the substrate.\n",
    "These constants typically do not need to be modified.\n",
    "A good entry point for the code is the function \"radius\".\n",
    "This function calculates the radius matrix for a given droplet volume v.\n",
    "The radius matrix is then processed by function \" Height_volume\",\n",
    "which computes the droplet height H and the droplet surface area under specific m and n constraints.\n",
    "By looping over a range of m and n values for a given droplet volume,\n",
    "the surface area matrix is obtained through function \"Main\". The minimum value in the surface area matrix,\n",
    "S_min, is identified, along with the corresponding parameters m and n.\n",
    "\n",
    "Results:\n",
    "The minimum surface area S_min and the corresponding parameters m and n\n",
    "are identified, providing insights into the morphology of sessile droplets on flower-pattern substrat.\n",
    "\"\"\""
   ]
  },
  {
   "cell_type": "code",
   "execution_count": 2,
   "metadata": {},
   "outputs": [],
   "source": [
    "import numpy as np\n",
    "import matplotlib.pyplot as plt\n",
    "from tqdm.auto import tqdm\n",
    "import pandas as pd\n",
    "from scipy.optimize import fsolve \n",
    "import sys\n",
    "import time\n",
    "from scipy import optimize\n",
    "from numpy import savetxt"
   ]
  },
  {
   "cell_type": "code",
   "execution_count": 3,
   "metadata": {},
   "outputs": [],
   "source": [
    "global Dimensions, PI, R_0, DEGREE, P, Q, A\n",
    "Dimensions = 400\n",
    "Dimensions_1 = 200\n",
    "Dimensions_2= 200\n",
    "PI = np.pi\n",
    "R_0 = 0.56085639 # Initial parameter R0 in paper to ensure the substrate area equals to 1\n",
    "DEGREE = 2\n",
    "P=0.5 # The parameter \"p\" in Equation S22 \n",
    "Q=4 # The parameter \"q\" in Equation S22 \n",
    "A=0.05 #Amplitude Parameter \"A\" for perturbation term Rb in Equation S22"
   ]
  },
  {
   "cell_type": "code",
   "execution_count": 4,
   "metadata": {},
   "outputs": [],
   "source": [
    "C_RANGES= np.reshape(np.linspace(1e-12, 0.999999, Dimensions), (-1,1))\n",
    "#a1=np.linspace(1e-12,0.5-(0.999-0.5)/Dimensions_2, Dimensions_1) \n",
    "#a2=np.linspace(0.5,0.999, Dimensions_2) \n",
    "#C_RANGES= np.reshape(np.concatenate((a1, a2), axis=0), (-1,1))\n",
    "THETA_RANGES = np.linspace(0, 2*PI, Dimensions)"
   ]
  },
  {
   "cell_type": "code",
   "execution_count": 5,
   "metadata": {},
   "outputs": [],
   "source": [
    "def pertubation(theta):\n",
    "    \"\"\"\n",
    "    Calculates the perturbation term Rb in Equation S22.\n",
    "\n",
    "    Args:\n",
    "        theta (array): The angle in the polar coordinate system..\n",
    "        \n",
    "    Returns:\n",
    "        Rb (array): the perturbation term Rb in Equation S22.\n",
    "    \"\"\"\n",
    "    return (np.cos(3*theta)+np.cos(8*theta)+np.sin(13*theta))"
   ]
  },
  {
   "cell_type": "code",
   "execution_count": 6,
   "metadata": {},
   "outputs": [],
   "source": [
    "def dev_pertubation(theta):\n",
    "    \"\"\"\n",
    "    Calculates the partial derivatives of perturbation term Rb with respect to angle theta\n",
    "\n",
    "    Args:\n",
    "        theta (array): The angle in the polar coordinate system..\n",
    "        \n",
    "    Returns:\n",
    "        (array): the partial derivatives of perturbation term Rb with respect to angle theta\n",
    "\n",
    "    \"\"\"\n",
    "    return 13*np.cos(13*theta)-8*np.sin(8*theta)-3*np.sin(3*theta)"
   ]
  },
  {
   "cell_type": "code",
   "execution_count": 7,
   "metadata": {},
   "outputs": [],
   "source": [
    "def radius(theta, c, m):\n",
    "    \"\"\"\n",
    "    This function generates a radius matrix.\n",
    "\n",
    "    Args:\n",
    "        theta (array-like): An array of angle ranges from 0 to 2π with a length of \"dimension_theta\".\n",
    "        c (array-like): An array of the parameter \"c\" ranging from 0 to 1 with a length of \"dimension_c\".\n",
    "        m (float): A scaling factor parameter \"f(c)\" as described in the referenced paper.\n",
    "\n",
    "    Returns:\n",
    "        numpy.ndarray: A radius matrix of size \"dimension_theta\" x \"dimension_c\" for the specified parameter \"m\".\n",
    "    \"\"\"\n",
    "    global Dimensions, PI, R_0, DEGREE, P, Q, A\n",
    "    pertu = pertubation(theta)\n",
    "    scalling = 1/(np.power((1+c), m))\n",
    "    r = scalling*((1-c)**P*R_0)+(np.power(1-c, Q)*A*pertu)###use R_0 = 0.561 to sure the surface = 1\n",
    "    return r"
   ]
  },
  {
   "cell_type": "code",
   "execution_count": null,
   "metadata": {},
   "outputs": [],
   "source": []
  },
  {
   "cell_type": "code",
   "execution_count": 8,
   "metadata": {},
   "outputs": [],
   "source": [
    "def Dev_r_theta(theta, c, m):\n",
    "    \"\"\"\n",
    "    Calculates the partial derivatives of the radius with respect to the angle\n",
    "    (\\(\\partial R / \\partial \\theta\\)), as described in Equation S23.\n",
    "\n",
    "    Args:\n",
    "        theta (array-like): Array of angle ranges from 0 to \\(2\\pi\\), \n",
    "        with a length specified by the \"dimension_theta\".\n",
    "        c_ranges (array-like): Array of parameter \"c\" ranges from 0 to 1,\n",
    "        with a length specified by the \"dimension_c\".\n",
    "        m (float): Scaling factor parameter \"f(c)\" as described in the paper.\n",
    "    \n",
    "    Returns:\n",
    "        numpy.ndarray: Matrix of partial derivatives of the radius with respect to the angle,\n",
    "        i.e. in Equation S23.\n",
    "    \"\"\"\n",
    "    global Dimensions, PI, R_0, DEGREE, P, Q, A\n",
    "    dev_per = dev_pertubation(theta)\n",
    "    d_r = A*np.power((1-c), Q)*dev_per\n",
    "    return d_r"
   ]
  },
  {
   "cell_type": "code",
   "execution_count": 9,
   "metadata": {},
   "outputs": [],
   "source": [
    "def Dev_r_c(theta, c, m):\n",
    "    \"\"\"\n",
    "    Calculates the partial derivatives of the radius with respect to the parameter (c)\n",
    "    (\\(\\partial R / \\partial c\\)), as described in Equation S24.\n",
    "\n",
    "    Args:\n",
    "        theta (array-like): Array of angle ranges from 0 to \\(2\\pi\\), \n",
    "        with a length specified by the \"dimension_theta\".\n",
    "        c_ranges (array-like): Array of parameter \"c\" ranges from 0 to 1,\n",
    "        with a length specified by the \"dimension_c\".\n",
    "        m (float): Scaling factor parameter \"f(c)\" as described in the paper.\n",
    "    \n",
    "    Returns:\n",
    "        numpy.ndarray: Matrix of partial derivatives of the radius with respect to the parameter (c),\n",
    "        i.e. in Equation S24.\n",
    "    \"\"\"\n",
    "    global Dimensions, PI, R_0, DEGREE, P, Q, A\n",
    "    pertu = pertubation(theta)*A\n",
    "    A = 1/(np.power((1+c), m))\n",
    "    B = (1-c)**P*R_0\n",
    "    dA = -m*np.power(1+c, -m-1)\n",
    "    dB = (-P)*R_0*(1-c)**(P-1)\n",
    "    dC = pertu*(Q)*((1-c)**((Q)-1))####require C != 1, when C == 1, there will be a signarity.\n",
    "    d_r = A*dB+B*dA+dC\n",
    "    return d_r"
   ]
  },
  {
   "cell_type": "code",
   "execution_count": 10,
   "metadata": {},
   "outputs": [],
   "source": [
    "def Dev_h_c(c, n):\n",
    "    \"\"\"\n",
    "    This function computes the partial derivative of height (h) with respect to c,\n",
    "    denoted as (\\partial h)/(\\partial c), which corresponds to the third part in Eq.S9 but without info of \"H\".\n",
    "\n",
    "    Args:\n",
    "        c (array): Array of parameter values ranging from 0 to c_max\n",
    "        with 'dimension' number of elements.\n",
    "        n (float): Parameter used in the droplet height definition h = H * c^n in the paper,\n",
    "        where H is the droplet height.\n",
    "\n",
    "    Returns:\n",
    "    (array):Array of partial derivatives of height with respect to parameter c,\n",
    "    scaled by a constant factor of H.\n",
    "    \"\"\"\n",
    "    global Dimensions, PI, R_0, DEGREE, P, Q, A\n",
    "    d_h = n*np.power(c, n-1)####set c_max=1\n",
    "    return d_h"
   ]
  },
  {
   "cell_type": "code",
   "execution_count": null,
   "metadata": {},
   "outputs": [],
   "source": []
  },
  {
   "cell_type": "code",
   "execution_count": null,
   "metadata": {},
   "outputs": [],
   "source": []
  },
  {
   "cell_type": "code",
   "execution_count": null,
   "metadata": {},
   "outputs": [],
   "source": []
  },
  {
   "cell_type": "code",
   "execution_count": 11,
   "metadata": {},
   "outputs": [],
   "source": [
    "def Height_volume(v, n, M, Radius, Theta_ranges, C_ranges):\n",
    "    \"\"\"\n",
    "    Calculates the height and the surface area of a droplet given its volume 'v' and parameters 'n' and 'm'.\n",
    "\n",
    "    Args:\n",
    "        v (float): Droplet volume.\n",
    "        m (float): Scaling factor parameter 'f(c)' as defined in the paper.\n",
    "        n (float): Parameter defining the droplet height 'h = Hc^n' in the paper,\n",
    "        where 'H' is the droplet height.\n",
    "        Radius (ndarray): Matrix of radii corresponding to parameter 'm'.\n",
    "        theta_ranges (ndarray): Array defining angle ranges from 0 to 2π with 'dimension_theta' length.\n",
    "        C_ranges (ndarray): Array defining parameter 'c' ranges from 0 to 1 with 'dimension_c' length.\n",
    "\n",
    "    Returns:\n",
    "        H (float): Droplet height under parameters 'n' and 'm'.\n",
    "        surface_size (float): Droplet surface area under parameters 'n' and 'm'.\n",
    "    \"\"\"\n",
    "    dimen_c = len(C_ranges)\n",
    "    \n",
    "    d_theta = Theta_ranges[1]-Theta_ranges[0]#(Theta_ranges[-1]-Theta_ranges[0])/Dimensions\n",
    "    C_RANGES_diff = np.diff(C_ranges, axis=0)\n",
    "    C_RANGES_diff = np.reshape(np.append(C_RANGES_diff, C_RANGES_diff[-1,0] ), (-1,1))\n",
    "    d_c = C_RANGES_diff\n",
    "    d_base_area = 0.5*(Radius**2)*d_theta\n",
    "\n",
    "\n",
    "    d_h = Dev_h_c(C_ranges, n)\n",
    "    dv = (d_base_area*d_h)*d_c\n",
    "\n",
    "    volume = np.sum(dv)\n",
    "\n",
    "    H = v/volume\n",
    "     \n",
    "    d_r_theta = Dev_r_theta(Theta_ranges, C_ranges, M)\n",
    "    d_r_c = Dev_r_c(Theta_ranges, C_ranges, M)\n",
    "  \n",
    "    d_h_c = H*d_h\n",
    "    \n",
    "    \n",
    "    ds = np.sqrt(Radius**2+d_r_theta**2)*d_theta\n",
    "    dl = np.sqrt(d_r_c**2+d_h_c**2)*d_c\n",
    "    \n",
    "    surface = ds*dl\n",
    "\n",
    "    \n",
    "    surface_size = np.sum(surface)\n",
    "    \n",
    "    return H, surface_size\n",
    "    "
   ]
  },
  {
   "cell_type": "code",
   "execution_count": null,
   "metadata": {},
   "outputs": [],
   "source": []
  },
  {
   "cell_type": "code",
   "execution_count": 12,
   "metadata": {},
   "outputs": [],
   "source": [
    "def Main(v, n_ranges, m_ranges, Theta_ranges, C_ranges):\n",
    "    \"\"\"\n",
    "    Calculates the minimum droplet surface area for a given volume.\n",
    "    \n",
    "    Args:\n",
    "        v (float): Droplet volume.\n",
    "        n_ranges (array-like): Array of possible values for parameter \"n\".\n",
    "        m_ranges (array-like): Array of possible values for parameter \"m\".\n",
    "        Theta_ranges (ndarray): Array defining angle ranges from 0 to 2π with 'dimension_theta' length.\n",
    "        C_ranges (ndarray): Array defining parameter 'c' ranges from 0 to 1 with 'dimension_c' length.\n",
    "       \n",
    "    Returns:\n",
    "        surface_min (float): Minimum surface area of the droplet.\n",
    "        height_min (float): Corresponding height when the minimum surface area is achieved.\n",
    "        surface_matrix (ndarray): Surface area matrix under dimensions specified by m_ranges*n_ranges.\n",
    "        m_ranges[index[0]] (float): Parameter \"m\" value corresponding to the minimum surface area.\n",
    "        n_ranges[index[1]] (float): Parameter \"n\" value corresponding to the minimum surface area.\n",
    "    \"\"\"\n",
    "    n_length = len(n_ranges)\n",
    "    m_length = len(m_ranges)\n",
    "    surface_matrix = np.zeros((m_length, n_length))\n",
    "    height_matrix = np.zeros((m_length, n_length))\n",
    "    for i in range(m_length):\n",
    "        Radius = radius(Theta_ranges, C_ranges, m_ranges[i])\n",
    "        for j in range(n_length):\n",
    "            height, surface = Height_volume(v, n_ranges[j], m_ranges[i], Radius, Theta_ranges, C_ranges)\n",
    "            surface_matrix[i][j] = surface\n",
    "            height_matrix[i][j] = height\n",
    "    surface_min = surface_matrix.min()\n",
    "    index = np.where(surface_matrix==np.min(surface_matrix))\n",
    "    height_min = height_matrix[index][0]\n",
    "    return surface_min, height_min, surface_matrix, m_ranges[index[0]], n_ranges[index[1]]"
   ]
  },
  {
   "cell_type": "code",
   "execution_count": null,
   "metadata": {},
   "outputs": [],
   "source": []
  },
  {
   "cell_type": "code",
   "execution_count": 13,
   "metadata": {},
   "outputs": [],
   "source": [
    "# def loop_volume(v):\n",
    "#     m_l=[1, 0.5,0.1,0.05,0.01,0.005,0.001]\n",
    "#     n_l=[0.1,0.05,0.01,0.005,0.001,0.0005,0.0001]\n",
    "#     levels = len(m_l)\n",
    "#     n_start = 0.5\n",
    "#     n_stop = 3\n",
    "#     m_start = -10\n",
    "#     m_stop = 20\n",
    "#     i = 0 \n",
    "#     Start = True\n",
    "#     while (i<levels):\n",
    "#         dimen = 200\n",
    "#         if (Start==True):\n",
    "#             m_ranges = np.arange(m_start, m_stop, m_l[i])\n",
    "#             n_ranges = np.arange(n_start,n_stop, n_l[i])\n",
    "#             Start = False\n",
    "#         else:\n",
    "#             pass\n",
    "# #         print(m_ranges)\n",
    "# #         print(n_ranges)\n",
    "#         s_g, h_g,energy_g= Main(v,n_ranges, m_ranges, THETA_RANGES, C_RANGES)\n",
    "#         index = np.where(energy_g == np.min(energy_g))\n",
    "#         m = index[0][0]\n",
    "#         n = index[1][0]\n",
    "# #         print('i', i)\n",
    "# #         print('m', m)\n",
    "# #         print('n', n)\n",
    "#         m_lst_index = len(m_ranges)-1\n",
    "#         n_lst_index = len(n_ranges)-1\n",
    "#         if (m ==0)|(m==m_lst_index)|(n==0)|(n==n_lst_index):\n",
    "#             m_ranges = np.arange(m_ranges[m]-m_l[i], m_ranges[m]+2*m_l[i], m_l[i])\n",
    "#             n_ranges = np.arange(n_ranges[n]-n_l[i], n_ranges[n]+2*n_l[i], n_l[i])\n",
    "#         else:\n",
    "#             if (i+1) <levels:\n",
    "#                 m_ranges = np.arange(m_ranges[m]-m_l[i], m_ranges[m]+m_l[i]+m_l[i+1], m_l[i+1])\n",
    "#                 n_ranges = np.arange(n_ranges[n]-n_l[i], n_ranges[n]+n_l[i]+n_l[i+1], n_l[i+1])\n",
    "#                 i = i+1\n",
    "#             else:\n",
    "#                 break\n",
    "#     surface = s_g\n",
    "#     height = h_g\n",
    "#     Energy = energy_g\n",
    "#     return surface, height, Energy,  m_ranges[m], n_ranges[n]"
   ]
  },
  {
   "cell_type": "code",
   "execution_count": 32,
   "metadata": {},
   "outputs": [],
   "source": [
    "m_ranges = np.arange(-1, 1, 0.01)\n",
    "n_ranges = np.arange(0.6,2, 0.01)\n",
    "Volume = [0.1]#,0.5,1]#[0.06,0.10,0.14, 0.18,0.5, 1, 1.5]\n",
    "Surface = []\n",
    "Height = []\n",
    "Energy = []\n",
    "m_matrix = []\n",
    "n_matrix = []\n",
    "for v in Volume:\n",
    "    s,h,e,m,n = Main(v, n_ranges, m_ranges, THETA_RANGES, C_RANGES)\n",
    "    Surface.append(s)\n",
    "    Height.append(h)\n",
    "    Energy.append(e)\n",
    "    m_matrix.append(m)\n",
    "    n_matrix.append(n)"
   ]
  },
  {
   "cell_type": "code",
   "execution_count": null,
   "metadata": {},
   "outputs": [],
   "source": []
  },
  {
   "cell_type": "code",
   "execution_count": 15,
   "metadata": {},
   "outputs": [],
   "source": [
    "# m_ranges = np.linspace(-8, 10, 800)\n",
    "# n_ranges = np.linspace(0.001, 4, 160)\n",
    "# #########ACCORDING to the calculation from Square_with_gravity, m in the range of (0.975,1.952),n in the range of (1.189,1.561);\n",
    "# Volume = [0.02,0.06,0.10,0.14, 0.18,0.5, 1, 1.5]\n",
    "# Surface = []\n",
    "# Height = []\n",
    "# Energy = []\n",
    "# m_matrix = []\n",
    "# n_matrix = []\n",
    "# for v in Volume:\n",
    "#     s,h,e = Main(v, n_ranges, m_ranges, THETA_RANGES, C_RANGES)\n",
    "#     Surface.append(s)\n",
    "#     Height.append(h)\n",
    "#     Energy.append(e)"
   ]
  },
  {
   "cell_type": "code",
   "execution_count": 16,
   "metadata": {},
   "outputs": [
    {
     "data": {
      "text/plain": [
       "[0.0010399352326969965]"
      ]
     },
     "execution_count": 16,
     "metadata": {},
     "output_type": "execute_result"
    }
   ],
   "source": [
    "#################THEO######################\n",
    "Height"
   ]
  },
  {
   "cell_type": "code",
   "execution_count": 17,
   "metadata": {},
   "outputs": [
    {
     "data": {
      "text/plain": [
       "[1.9169818799698077]"
      ]
     },
     "execution_count": 17,
     "metadata": {},
     "output_type": "execute_result"
    }
   ],
   "source": [
    "##############THEO#################\n",
    "Surface#####"
   ]
  },
  {
   "cell_type": "code",
   "execution_count": 18,
   "metadata": {},
   "outputs": [
    {
     "data": {
      "text/plain": [
       "[array([-1.])]"
      ]
     },
     "execution_count": 18,
     "metadata": {},
     "output_type": "execute_result"
    }
   ],
   "source": [
    "m_matrix"
   ]
  },
  {
   "cell_type": "code",
   "execution_count": 19,
   "metadata": {},
   "outputs": [
    {
     "data": {
      "text/plain": [
       "[array([0.6])]"
      ]
     },
     "execution_count": 19,
     "metadata": {},
     "output_type": "execute_result"
    }
   ],
   "source": [
    "n_matrix"
   ]
  },
  {
   "cell_type": "code",
   "execution_count": 20,
   "metadata": {},
   "outputs": [],
   "source": [
    "surface_energy = Energy[0]"
   ]
  },
  {
   "cell_type": "code",
   "execution_count": 21,
   "metadata": {},
   "outputs": [],
   "source": [
    "#savetxt('flower01.csv', surface_energy, delimiter=',')"
   ]
  },
  {
   "cell_type": "code",
   "execution_count": null,
   "metadata": {},
   "outputs": [],
   "source": []
  },
  {
   "cell_type": "code",
   "execution_count": null,
   "metadata": {},
   "outputs": [],
   "source": []
  },
  {
   "cell_type": "code",
   "execution_count": 22,
   "metadata": {},
   "outputs": [],
   "source": []
  },
  {
   "cell_type": "code",
   "execution_count": null,
   "metadata": {},
   "outputs": [],
   "source": []
  },
  {
   "cell_type": "code",
   "execution_count": null,
   "metadata": {},
   "outputs": [],
   "source": []
  }
 ],
 "metadata": {
  "kernelspec": {
   "display_name": "Python 3",
   "language": "python",
   "name": "python3"
  },
  "language_info": {
   "codemirror_mode": {
    "name": "ipython",
    "version": 3
   },
   "file_extension": ".py",
   "mimetype": "text/x-python",
   "name": "python",
   "nbconvert_exporter": "python",
   "pygments_lexer": "ipython3",
   "version": "3.7.4"
  }
 },
 "nbformat": 4,
 "nbformat_minor": 5
}
