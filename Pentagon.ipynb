{
 "cells": [
  {
   "cell_type": "code",
   "execution_count": 1,
   "id": "c1b97f15",
   "metadata": {},
   "outputs": [],
   "source": [
    "import numpy as np\n",
    "import matplotlib.pyplot as plt\n",
    "from tqdm.auto import tqdm\n",
    "import pandas as pd\n",
    "from scipy.optimize import fsolve \n",
    "import sys\n",
    "import time\n",
    "from scipy import optimize\n",
    "from numpy import savetxt"
   ]
  },
  {
   "cell_type": "code",
   "execution_count": 2,
   "id": "9dad7010",
   "metadata": {},
   "outputs": [],
   "source": [
    "def intercept(s, N):\n",
    "    r = np.sqrt(s/(np.tan(np.pi/N)*N))\n",
    "    return r"
   ]
  },
  {
   "cell_type": "code",
   "execution_count": 3,
   "id": "999cc43f",
   "metadata": {},
   "outputs": [],
   "source": [
    "N = 5\n",
    "area = 1\n",
    "theta_ = (2*np.pi)/N\n",
    "r = intercept(area, N)\n",
    "c_max = np.power(-1, N)*np.power(-r,N)\n",
    "#####\n",
    "a1 = np.sin(theta_)\n",
    "b1 = np.cos(theta_)\n",
    "a2 = np.sin(2*theta_)\n",
    "b2 = np.cos(2*theta_)\n",
    "a3 = np.sin(3*theta_)\n",
    "b3 = np.cos(3*theta_)\n",
    "a4 = np.sin(4*theta_)\n",
    "b4 = np.cos(4*theta_)\n",
    "a5 = np.sin(5*theta_)\n",
    "b5 = np.cos(5*theta_)\n",
    "#####"
   ]
  },
  {
   "cell_type": "code",
   "execution_count": 4,
   "id": "2229da89",
   "metadata": {},
   "outputs": [],
   "source": [
    "def r2fun(R, *data):#polar coordinate\n",
    "    '''this function describes the shape of droplet on a hydrophobic\n",
    "    '''\n",
    "    global theta_, r, N, c_max\n",
    "    theta, c, m= data\n",
    "    f=1\n",
    "    x = R*np.cos(theta)\n",
    "    y = R*np.sin(theta)\n",
    "    factor = (1 + (c/c_max))**m\n",
    "    for echo in range(N):\n",
    "        i = echo+1\n",
    "        fi = ((np.sin(i*theta_))*(y/factor) + np.cos(i*theta_)*(x/factor))-r\n",
    "        f = f*fi\n",
    "    f = np.power(-1, N)*f\n",
    "    return f-c"
   ]
  },
  {
   "cell_type": "code",
   "execution_count": 5,
   "id": "9334ff6a",
   "metadata": {},
   "outputs": [],
   "source": [
    "def r2fun_initial(R, *data):#polar coordinate\n",
    "    '''this function describes the shape of droplet on a hydrophobic\n",
    "    '''\n",
    "    global theta_, r, N, c_max\n",
    "    theta, c, m= data\n",
    "    f=1\n",
    "    x = R*np.cos(theta)\n",
    "    y = R*np.sin(theta)\n",
    "    factor = (1 + (c/c_max))**m\n",
    "    for echo in range(N):\n",
    "        i = echo+1\n",
    "        fi = ((np.sin(i*theta_))*(y/factor) + np.cos(i*theta_)*(x/factor))-r\n",
    "        f = f*fi\n",
    "    f = np.power(-1, N)*f\n",
    "    return f-c"
   ]
  },
  {
   "cell_type": "code",
   "execution_count": 6,
   "id": "2803c0e5",
   "metadata": {},
   "outputs": [],
   "source": [
    "def r_solution_initial(r0, theta, c, m):\n",
    "    data = (theta, c, m)\n",
    "    r,_,ier,mesg = fsolve(r2fun, r0, args=data, full_output=True)\n",
    "    r_value = r.item(0)\n",
    "    if ier != 1:\n",
    "        print (\"r_solution:I coudn't solve the algebraic constraint, error:\\n\\n:\",r_value, theta,c, m)\n",
    "    sys.stdout.flush()\n",
    "    #r_value = sol.x\n",
    "    return r_value"
   ]
  },
  {
   "cell_type": "code",
   "execution_count": 7,
   "id": "18eaf08f",
   "metadata": {},
   "outputs": [],
   "source": [
    "def r_solution_array(r0, theta, c, m):\n",
    "    data = (theta, c, m)\n",
    "    r,_,ier,mesg = fsolve(r2fun, r0, args=data, full_output=True)\n",
    "    if ier != 1:\n",
    "        print (\"r_solution:I coudn't solve the algebraic constraint, error:\\n\\n:\",c, m)\n",
    "    sys.stdout.flush()\n",
    "    return r"
   ]
  },
  {
   "cell_type": "code",
   "execution_count": 8,
   "id": "12497933",
   "metadata": {},
   "outputs": [],
   "source": [
    "def Radius2fun(dimension,theta_r, c_r, m):\n",
    "    global N, r\n",
    "    r0 = r\n",
    "    radius = np.zeros(shape = (dimension, dimension))\n",
    "    for i in range(dimension):\n",
    "        c = c_r[i]\n",
    "        if i <=1:\n",
    "            for j in range(dimension):\n",
    "                theta = theta_r[j]\n",
    "                R = r_solution_initial(r0, theta, c, m)\n",
    "                radius[i][j] = R\n",
    "                r0 = R\n",
    "        else:\n",
    "            r0 = radius[i-1]\n",
    "            R = r_solution_array(r0, theta_r, c, m)\n",
    "            radius[i] = R\n",
    "    return radius"
   ]
  },
  {
   "cell_type": "code",
   "execution_count": 9,
   "id": "2989ce5e",
   "metadata": {},
   "outputs": [],
   "source": [
    "def dev_r_theta2fun(theta_ranges, Radius, c_ranges, m):\n",
    "    global r, c_max\n",
    "    C_N_factor = np.reshape(((1 + c_ranges/c_max)**m), (-1,1))\n",
    "    Sin = np.sin(theta_ranges)\n",
    "    Cos = np.cos(theta_ranges)\n",
    "    R_sin = Radius*Sin\n",
    "    R_cos = Radius*Cos\n",
    "    eq1 = a1*R_sin+b1*R_cos-r*C_N_factor\n",
    "    eq2 = a2*R_sin+b2*R_cos-r*C_N_factor\n",
    "    eq3 = a3*R_sin+b3*R_cos-r*C_N_factor\n",
    "    eq4 = a4*R_sin+b4*R_cos-r*C_N_factor\n",
    "    eq5 = a5*R_sin+b5*R_cos-r*C_N_factor\n",
    "############################\n",
    "    d_eq1_1 = a1*Sin+b1*Cos\n",
    "    d_eq2_1 = a2*Sin+b2*Cos\n",
    "    d_eq3_1 = a3*Sin+b3*Cos\n",
    "    \n",
    "    d_eq4_1 = a4*Sin+b4*Cos\n",
    "    d_eq5_1 = a5*Sin+b5*Cos\n",
    "###########################\n",
    "    d_eq1_2 = a1*R_cos-b1*R_sin\n",
    "    d_eq2_2 = a2*R_cos-b2*R_sin\n",
    "    d_eq3_2 = a3*R_cos-b3*R_sin\n",
    "    d_eq4_2 = a4*R_cos-b4*R_sin\n",
    "    d_eq5_2 = a5*R_cos-b5*R_sin\n",
    "\n",
    "###\n",
    "    z_denominator = (d_eq1_1*eq2*eq3*eq4*eq5+d_eq2_1*eq1*eq3*eq4*eq5+d_eq3_1\n",
    "                     *eq2*eq1*eq4*eq5+d_eq4_1*eq2*eq3*eq1*eq5+\n",
    "                     d_eq5_1*eq2*eq3*eq4*eq1)\n",
    "    z_numerator = -(d_eq1_2*eq2*eq3*eq4*eq5+d_eq2_2*eq1*eq3*eq4*eq5+d_eq3_2\n",
    "                     *eq2*eq1*eq4*eq5+d_eq4_2*eq2*eq3*eq1*eq5+\n",
    "                     d_eq5_2*eq2*eq3*eq4*eq1)\n",
    "    dev_r_theta = z_numerator/z_denominator\n",
    "    return dev_r_theta"
   ]
  },
  {
   "cell_type": "code",
   "execution_count": 10,
   "id": "68c78736",
   "metadata": {},
   "outputs": [],
   "source": [
    "# def dev_r_C2fun(theta_ranges, Radius, c_ranges, m):\n",
    "#     global r, c_max, N\n",
    "#     c = np.reshape(c_ranges, (-1,1))\n",
    "#     C_N_factor = (1+(c/c_max))**m\n",
    "#     Sin = np.sin(theta_ranges)\n",
    "#     Cos = np.cos(theta_ranges)\n",
    "#     R_sin = Radius*Sin\n",
    "#     R_cos = Radius*Cos\n",
    "#     eq1 = a1*R_sin+b1*R_cos-r*C_N_factor\n",
    "#     eq2 = a2*R_sin+b2*R_cos-r*C_N_factor\n",
    "#     eq3 = a3*R_sin+b3*R_cos-r*C_N_factor\n",
    "#     eq4 = a4*R_sin+b4*R_cos-r*C_N_factor\n",
    "#     eq5 = a5*R_sin+b5*R_cos-r*C_N_factor\n",
    "    \n",
    "    \n",
    "#     ############################\n",
    "#     d_eq1_1 = a1*Sin+b1*Cos\n",
    "#     d_eq2_1 = a2*Sin+b2*Cos\n",
    "#     d_eq3_1 = a3*Sin+b3*Cos\n",
    "#     d_eq4_1 = a4*Sin+b4*Cos\n",
    "#     d_eq5_1 = a5*Sin+b5*Cos\n",
    "    \n",
    "    \n",
    "#     ###########################\n",
    "#     B = (-r*m*((1+c/c_max)**(m-1))*(1/c_max))*(eq2*eq3*eq4*eq5+eq1*eq3*eq4*eq5+eq2*eq1*eq4*eq5+eq1*eq2*eq3*eq5\n",
    "#                                               +eq1*eq2*eq3*eq4)\n",
    "#     A = (d_eq1_1*eq2*eq3*eq4*eq5+d_eq2_1*eq1*eq3*eq4*eq5+d_eq3_1*eq2*eq1*eq4*eq5\n",
    "#         +d_eq4_1*eq2*eq1*eq3*eq5+d_eq5_1*eq2*eq1*eq4*eq3)\n",
    "#     C = C_N_factor**N + c*(N*m)*((1+(c/c_max))**(N*m-1))*(1/c_max)\n",
    "#     dev_r_c = -(B+C)/A\n",
    "#     return dev_r_c\n",
    "\n",
    "\n",
    "def dev_r_C2fun(theta_ranges, Radius, c_ranges, m):\n",
    "    global r, c_max, N\n",
    "    c = np.reshape(c_ranges, (-1,1))\n",
    "    C_N_factor = (1+(c/c_max))**m\n",
    "    Sin = np.sin(theta_ranges)\n",
    "    Cos = np.cos(theta_ranges)\n",
    "    R_sin = Radius*Sin\n",
    "    R_cos = Radius*Cos\n",
    "    eq1 = a1*R_sin+b1*R_cos-r*C_N_factor\n",
    "    eq2 = a2*R_sin+b2*R_cos-r*C_N_factor\n",
    "    eq3 = a3*R_sin+b3*R_cos-r*C_N_factor\n",
    "    eq4 = a4*R_sin+b4*R_cos-r*C_N_factor\n",
    "    eq5 = a5*R_sin+b5*R_cos-r*C_N_factor\n",
    "    ############################\n",
    "    d_eq1_1 = a1*Sin+b1*Cos\n",
    "    d_eq2_1 = a2*Sin+b2*Cos\n",
    "    d_eq3_1 = a3*Sin+b3*Cos\n",
    "    d_eq4_1 = a4*Sin+b4*Cos\n",
    "    d_eq5_1 = a5*Sin+b5*Cos\n",
    "    ###########################\n",
    "    z_denominator = (d_eq1_1*eq2*eq3*eq4*eq5+d_eq2_1*eq1*eq3*eq4*eq5+d_eq3_1\n",
    "                     *eq2*eq1*eq4*eq5+d_eq4_1*eq1*eq3*eq2*eq5+d_eq5_1*eq1*eq3*eq2*eq4)\n",
    "    c_n_factor = m*((1+c/c_max)**(m-1))*(1/c_max)\n",
    "    C_derv = C_N_factor**N+c*N*(C_N_factor**(N-1))*c_n_factor\n",
    "    z_numerator = -C_derv+r*c_n_factor*(eq2*eq3*eq4*eq5+eq1*eq3*eq4*eq5+eq1*eq2*eq4*eq5+eq1*eq2*eq3*eq5\n",
    "                                      +eq1*eq2*eq3*eq4)\n",
    "    dev_r_c = z_numerator/z_denominator\n",
    "    return dev_r_c"
   ]
  },
  {
   "cell_type": "code",
   "execution_count": 11,
   "id": "b433c2a9",
   "metadata": {},
   "outputs": [],
   "source": [
    "def dev_h_c2fun(c, n):\n",
    "    return (n/np.power(c_max, n))*np.power(c,n-1)"
   ]
  },
  {
   "cell_type": "code",
   "execution_count": 12,
   "id": "97664fdb",
   "metadata": {},
   "outputs": [],
   "source": [
    "def average_mainfun(v, n, m, Radius, theta_ranges, C_ranges):\n",
    "    global c_max, r, N\n",
    "\n",
    "    dimen_theta = len(theta_ranges)\n",
    "    dimen_c = len(C_ranges)\n",
    "    \n",
    "    dev_h_c = dev_h_c2fun(C_ranges, n)\n",
    "    ds_base = (1/2)*(Radius**2)*(2*(np.pi)/(dimen_theta*N))\n",
    "    ds_2 = np.delete(ds_base, -1, axis=1)\n",
    "    ds_3 = np.delete(ds_base, 0, axis=1)\n",
    "\n",
    "    delta_base_2 = np.sum(ds_2, axis=1)\n",
    "    delta_base_3 = np.sum(ds_3, axis=1)\n",
    "    \n",
    "    dela_base_average = 0.5*(delta_base_2+delta_base_3)\n",
    "    \n",
    "    \n",
    "    dv = (dela_base_average*dev_h_c)*(c_max/dimen_c)\n",
    "    dv2 = np.delete(dv, -1, axis=0)\n",
    "    dv3 = np.delete(dv, 0, axis=0)\n",
    "    dv_average = 0.5*(dv2+dv3)\n",
    "    \n",
    "    dv_sum = np.sum(dv_average)\n",
    "    H = v/(dv_sum*N)\n",
    "    \n",
    "    dev_r_theta = dev_r_theta2fun(theta_ranges, Radius, C_ranges, m)\n",
    "    dl = np.sqrt(Radius**2 + dev_r_theta**2)*(2*(np.pi)/(dimen_theta*N))\n",
    "\n",
    "    d_h = H*dev_h_c\n",
    "    dh = d_h.reshape(-1,1)\n",
    "    d_r_c = dev_r_C2fun(theta_ranges, Radius, C_ranges, m)\n",
    "    \n",
    "    #########################################################\n",
    "    d_r_c[0][dimen_c//2] = 0 #when c=0, the d_r_c is not derivative, so to avoid the singularity\n",
    "    #########################################################\n",
    "    \n",
    "    \n",
    "    \n",
    "    ds_surface = np.sqrt(dh**2+d_r_c**2)*(c_max/dimen_c)\n",
    "    surface = dl*ds_surface \n",
    "\n",
    "    \n",
    "    surface1 = np.delete(surface, -1, axis=0)\n",
    "    surface2 = np.delete(surface1, -1, axis=1)\n",
    "    \n",
    "    surface3 = np.delete(surface, 0, axis=0)\n",
    "    surface4 = np.delete(surface3, 0, axis=1)\n",
    "    \n",
    "    surface = 0.5*(surface2+surface4)\n",
    "    \n",
    "    surface_size = np.sum(surface)*N\n",
    "    return H, surface_size"
   ]
  },
  {
   "cell_type": "code",
   "execution_count": 13,
   "id": "ebf383ce",
   "metadata": {},
   "outputs": [],
   "source": [
    "def Main_M(v, dimen, m_ranges, n_ranges):\n",
    "    C_ranges = np.linspace(1e-16, 0.999*c_max, dimen)\n",
    "    theta_ranges = np.linspace(0, (2*np.pi)/N, dimen)\n",
    "    m_length = len(m_ranges)\n",
    "    n_length = len(n_ranges)\n",
    "    M_n_surface_matrix = np.zeros((m_length, n_length))\n",
    "    M_n_height_matrix = np.zeros((m_length, n_length))\n",
    "    for i in tqdm(range(m_length)):\n",
    "        M_Radius = Radius2fun(dimen, theta_ranges, C_ranges, m_ranges[i])\n",
    "        for j in range(n_length):\n",
    "            n_h, n_s = average_mainfun(v, n_ranges[j],m_ranges[i], M_Radius, theta_ranges, C_ranges)\n",
    "            M_n_surface_matrix[i][j] = n_s\n",
    "            M_n_height_matrix[i][j] = n_h\n",
    "    surface_small = M_n_surface_matrix.min()\n",
    "    index = np.where(M_n_surface_matrix == np.min(M_n_surface_matrix))\n",
    "    height = M_n_height_matrix[index]\n",
    "    return surface_small, height, M_n_surface_matrix, m_ranges[index[0]], n_ranges[index[1]]"
   ]
  },
  {
   "cell_type": "code",
   "execution_count": null,
   "id": "6b2dedd8",
   "metadata": {},
   "outputs": [],
   "source": []
  },
  {
   "cell_type": "code",
   "execution_count": 14,
   "id": "7d24ad1a",
   "metadata": {},
   "outputs": [],
   "source": [
    "Volume = [0.3]#,0.06,0.1,0.14, 0.18, 0.5, 1, 1.5]\n",
    "#m_ranges = np.linspace(0.1, 0.6, 200)\n",
    "#n_ranges = np.linspace(0.9, 1.3, 200)\n",
    "#m_ranges = np.linspace(0.5, 1.5, 200)\n",
    "#n_ranges = np.linspace(0.8,2, 200)\n",
    "m_ranges = np.arange(-3, 3, 0.1)\n",
    "n_ranges = np.arange(0.5,2, 0.01)"
   ]
  },
  {
   "cell_type": "code",
   "execution_count": 15,
   "id": "e082d1cf",
   "metadata": {},
   "outputs": [
    {
     "data": {
      "application/vnd.jupyter.widget-view+json": {
       "model_id": "075ebc687df74e9ca532ce3543ca341a",
       "version_major": 2,
       "version_minor": 0
      },
      "text/plain": [
       "  0%|          | 0/60 [00:00<?, ?it/s]"
      ]
     },
     "metadata": {},
     "output_type": "display_data"
    }
   ],
   "source": [
    "ss = []\n",
    "hh = []\n",
    "s_matrixs = []\n",
    "m_indexs = []\n",
    "n_indexs = []\n",
    "Dimen = 200#####recommand 200\n",
    "for v in Volume:\n",
    "    s, h, s_matrix, m, n= Main_M(v, Dimen, m_ranges, n_ranges)\n",
    "    ss.append(s)\n",
    "    hh.append(h)\n",
    "    s_matrixs.append(s_matrix)\n",
    "    m_indexs.append(m)\n",
    "    n_indexs.append(n)"
   ]
  },
  {
   "cell_type": "code",
   "execution_count": 16,
   "id": "e41ce0b5",
   "metadata": {},
   "outputs": [
    {
     "data": {
      "text/plain": [
       "[array([0.7])]"
      ]
     },
     "execution_count": 16,
     "metadata": {},
     "output_type": "execute_result"
    }
   ],
   "source": [
    "m_indexs"
   ]
  },
  {
   "cell_type": "code",
   "execution_count": 17,
   "id": "3daaf6ff",
   "metadata": {},
   "outputs": [
    {
     "data": {
      "text/plain": [
       "[array([0.96])]"
      ]
     },
     "execution_count": 17,
     "metadata": {},
     "output_type": "execute_result"
    }
   ],
   "source": [
    "n_indexs"
   ]
  },
  {
   "cell_type": "code",
   "execution_count": 18,
   "id": "fe92e08d",
   "metadata": {},
   "outputs": [
    {
     "data": {
      "text/plain": [
       "[array([0.4763483])]"
      ]
     },
     "execution_count": 18,
     "metadata": {},
     "output_type": "execute_result"
    }
   ],
   "source": [
    "hh"
   ]
  },
  {
   "cell_type": "code",
   "execution_count": 19,
   "id": "d465b371",
   "metadata": {},
   "outputs": [
    {
     "data": {
      "text/plain": [
       "[1.7496860076107035]"
      ]
     },
     "execution_count": 19,
     "metadata": {},
     "output_type": "execute_result"
    }
   ],
   "source": [
    "ss"
   ]
  },
  {
   "cell_type": "code",
   "execution_count": 20,
   "id": "fa2cbdce",
   "metadata": {},
   "outputs": [],
   "source": [
    "surface_energy = s_matrixs[0]"
   ]
  },
  {
   "cell_type": "code",
   "execution_count": 21,
   "id": "8beda33f",
   "metadata": {},
   "outputs": [],
   "source": [
    "savetxt('pen03.csv', surface_energy, delimiter=',')"
   ]
  },
  {
   "cell_type": "code",
   "execution_count": 22,
   "id": "6912a643",
   "metadata": {},
   "outputs": [
    {
     "ename": "NameError",
     "evalue": "name 'array' is not defined",
     "output_type": "error",
     "traceback": [
      "\u001b[0;31m---------------------------------------------------------------------------\u001b[0m",
      "\u001b[0;31mNameError\u001b[0m                                 Traceback (most recent call last)",
      "Cell \u001b[0;32mIn[22], line 16\u001b[0m\n\u001b[1;32m     12\u001b[0m \u001b[38;5;66;03m#V=0.5 m,n=1.01758794,1.02311558\u001b[39;00m\n\u001b[1;32m     14\u001b[0m hh\n\u001b[0;32m---> 16\u001b[0m [\u001b[43marray\u001b[49m([\u001b[38;5;241m0.67268194\u001b[39m])]\n\u001b[1;32m     18\u001b[0m ss\n\u001b[1;32m     20\u001b[0m [\u001b[38;5;241m2.4585499491215397\u001b[39m]\n",
      "\u001b[0;31mNameError\u001b[0m: name 'array' is not defined"
     ]
    }
   ],
   "source": [
    "#V=0.1  m,n=0.38040201, 0.98693467\n",
    "\n",
    "hh\n",
    "\n",
    "0.19411649\n",
    "\n",
    "ss\n",
    "\n",
    "1.122915832660931\n",
    "\n",
    "\n",
    "#V=0.3 m,n=0.7,0.96\n",
    "\n",
    "hh\n",
    "\n",
    "[array([0.4763483])]\n",
    "\n",
    "ss\n",
    "\n",
    "[1.7496860076107035]\n",
    "\n",
    "\n",
    "#V=0.5 m,n=1.01758794,1.02311558\n",
    "\n",
    "hh\n",
    "\n",
    "[array([0.67268194])]\n",
    "\n",
    "ss\n",
    "\n",
    "[2.4585499491215397]"
   ]
  },
  {
   "cell_type": "code",
   "execution_count": null,
   "id": "d3c250d0",
   "metadata": {},
   "outputs": [],
   "source": []
  },
  {
   "cell_type": "code",
   "execution_count": null,
   "id": "92cd1b3f",
   "metadata": {},
   "outputs": [],
   "source": []
  },
  {
   "cell_type": "code",
   "execution_count": null,
   "id": "15c33627",
   "metadata": {},
   "outputs": [],
   "source": []
  },
  {
   "cell_type": "code",
   "execution_count": null,
   "id": "fbea8b29",
   "metadata": {},
   "outputs": [],
   "source": []
  },
  {
   "cell_type": "code",
   "execution_count": null,
   "id": "a24a6155",
   "metadata": {},
   "outputs": [],
   "source": []
  },
  {
   "cell_type": "code",
   "execution_count": null,
   "id": "314b398f",
   "metadata": {},
   "outputs": [],
   "source": []
  },
  {
   "cell_type": "code",
   "execution_count": null,
   "id": "9e9d9f3b",
   "metadata": {},
   "outputs": [],
   "source": []
  },
  {
   "cell_type": "code",
   "execution_count": null,
   "id": "71694bb6",
   "metadata": {},
   "outputs": [],
   "source": []
  },
  {
   "cell_type": "code",
   "execution_count": null,
   "id": "ad4451cc",
   "metadata": {},
   "outputs": [],
   "source": []
  },
  {
   "cell_type": "code",
   "execution_count": null,
   "id": "d7653053",
   "metadata": {},
   "outputs": [],
   "source": []
  },
  {
   "cell_type": "code",
   "execution_count": null,
   "id": "9b7ad4f5",
   "metadata": {},
   "outputs": [],
   "source": []
  }
 ],
 "metadata": {
  "kernelspec": {
   "display_name": "Python 3",
   "language": "python",
   "name": "python3"
  },
  "language_info": {
   "codemirror_mode": {
    "name": "ipython",
    "version": 3
   },
   "file_extension": ".py",
   "mimetype": "text/x-python",
   "name": "python",
   "nbconvert_exporter": "python",
   "pygments_lexer": "ipython3",
   "version": "3.10.9"
  }
 },
 "nbformat": 4,
 "nbformat_minor": 5
}
